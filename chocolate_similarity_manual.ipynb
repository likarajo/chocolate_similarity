{
  "nbformat": 4,
  "nbformat_minor": 0,
  "metadata": {
    "colab": {
      "name": "manual_similarity.ipynb",
      "provenance": [],
      "collapsed_sections": []
    },
    "accelerator": "GPU",
    "kernelspec": {
      "name": "python3",
      "display_name": "Python 3"
    }
  },
  "cells": [
    {
      "cell_type": "markdown",
      "metadata": {
        "id": "9NkysjxvKAli"
      },
      "source": [
        "# Group Chocolates\n",
        "\n",
        "Steps:\n",
        "* Load Data\n",
        "* Clean the data.\n",
        "* Process the data.\n",
        "* Calculate similarity between pairs of chocolates.\n",
        "  * Manual Similarity Measure\n",
        "* Cluster the chocolates.\n",
        "  * K-Means clustering\n",
        "*   Check the clustering result using quality metrics."
      ]
    },
    {
      "cell_type": "markdown",
      "metadata": {
        "id": "rw7s_QuNH80N"
      },
      "source": [
        "## 0. Import necessary modules"
      ]
    },
    {
      "cell_type": "code",
      "metadata": {
        "id": "TclQmdumIByX"
      },
      "source": [
        "import math\n",
        "from matplotlib import pyplot as plt\n",
        "import numpy as np\n",
        "np.set_printoptions(precision=2)\n",
        "import numpy.linalg as nla\n",
        "import pandas as pd\n",
        "pd.options.display.float_format = '{:.2f}'.format # one digit for decimal places\n",
        "pd.options.display.max_rows = 15 # limit it to printing 15 rows\n",
        "import seaborn as sns\n",
        "import altair as alt\n",
        "import re\n",
        "import pdb  # for Python debugger\n",
        "import sys\n",
        "from os.path import join"
      ],
      "execution_count": 2,
      "outputs": []
    },
    {
      "cell_type": "markdown",
      "metadata": {
        "id": "2X92CHu-KDOi"
      },
      "source": [
        "## 1. Load the dataset\n",
        "\n",
        "[Chocolate Bar Ratings](https://www.kaggle.com/rtatman/chocolate-bar-ratings)\n",
        "\n",
        "Ratings of chocolate bars along with their cocoa percentage, bean type, bean origin, maker name, and maker country.\n"
      ]
    },
    {
      "cell_type": "code",
      "metadata": {
        "id": "Sq-yxIzRO4R2",
        "colab": {
          "base_uri": "https://localhost:8080/"
        },
        "outputId": "f5ba184b-f29b-4ee7-cb36-f3a6188cddae"
      },
      "source": [
        "choc_data = pd.read_csv(\"https://download.mlcc.google.com/mledu-datasets/flavors_of_cacao.csv\", sep=\",\", encoding='latin-1')\n",
        "\n",
        "# Rename the columns.\n",
        "choc_data.columns = ['maker', 'specific_origin', 'reference_number', 'review_date', 'cocoa_percent', 'maker_location', 'rating', 'bean_type', 'broad_origin']\n",
        "\n",
        "print(\"Total examples: \", choc_data.shape)\n",
        "print(choc_data.dtypes)"
      ],
      "execution_count": 3,
      "outputs": [
        {
          "output_type": "stream",
          "text": [
            "Total examples:  (1795, 9)\n",
            "maker                object\n",
            "specific_origin      object\n",
            "reference_number      int64\n",
            "review_date           int64\n",
            "cocoa_percent        object\n",
            "maker_location       object\n",
            "rating              float64\n",
            "bean_type            object\n",
            "broad_origin         object\n",
            "dtype: object\n"
          ],
          "name": "stdout"
        }
      ]
    },
    {
      "cell_type": "markdown",
      "metadata": {
        "id": "cmTPK_2WKhWu"
      },
      "source": [
        "## 2. Check the data"
      ]
    },
    {
      "cell_type": "code",
      "metadata": {
        "colab": {
          "base_uri": "https://localhost:8080/",
          "height": 419
        },
        "id": "WBpx91jSKlxF",
        "outputId": "57ef12d5-64ce-46b8-f3cd-6313bf9c4891"
      },
      "source": [
        "choc_data.head(20)"
      ],
      "execution_count": 4,
      "outputs": [
        {
          "output_type": "execute_result",
          "data": {
            "text/html": [
              "<div>\n",
              "<style scoped>\n",
              "    .dataframe tbody tr th:only-of-type {\n",
              "        vertical-align: middle;\n",
              "    }\n",
              "\n",
              "    .dataframe tbody tr th {\n",
              "        vertical-align: top;\n",
              "    }\n",
              "\n",
              "    .dataframe thead th {\n",
              "        text-align: right;\n",
              "    }\n",
              "</style>\n",
              "<table border=\"1\" class=\"dataframe\">\n",
              "  <thead>\n",
              "    <tr style=\"text-align: right;\">\n",
              "      <th></th>\n",
              "      <th>maker</th>\n",
              "      <th>specific_origin</th>\n",
              "      <th>reference_number</th>\n",
              "      <th>review_date</th>\n",
              "      <th>cocoa_percent</th>\n",
              "      <th>maker_location</th>\n",
              "      <th>rating</th>\n",
              "      <th>bean_type</th>\n",
              "      <th>broad_origin</th>\n",
              "    </tr>\n",
              "  </thead>\n",
              "  <tbody>\n",
              "    <tr>\n",
              "      <th>0</th>\n",
              "      <td>A. Morin</td>\n",
              "      <td>Agua Grande</td>\n",
              "      <td>1876</td>\n",
              "      <td>2016</td>\n",
              "      <td>63%</td>\n",
              "      <td>France</td>\n",
              "      <td>3.75</td>\n",
              "      <td>NaN</td>\n",
              "      <td>Sao Tome</td>\n",
              "    </tr>\n",
              "    <tr>\n",
              "      <th>1</th>\n",
              "      <td>A. Morin</td>\n",
              "      <td>Kpime</td>\n",
              "      <td>1676</td>\n",
              "      <td>2015</td>\n",
              "      <td>70%</td>\n",
              "      <td>France</td>\n",
              "      <td>2.75</td>\n",
              "      <td>NaN</td>\n",
              "      <td>Togo</td>\n",
              "    </tr>\n",
              "    <tr>\n",
              "      <th>2</th>\n",
              "      <td>A. Morin</td>\n",
              "      <td>Atsane</td>\n",
              "      <td>1676</td>\n",
              "      <td>2015</td>\n",
              "      <td>70%</td>\n",
              "      <td>France</td>\n",
              "      <td>3.00</td>\n",
              "      <td>NaN</td>\n",
              "      <td>Togo</td>\n",
              "    </tr>\n",
              "    <tr>\n",
              "      <th>3</th>\n",
              "      <td>A. Morin</td>\n",
              "      <td>Akata</td>\n",
              "      <td>1680</td>\n",
              "      <td>2015</td>\n",
              "      <td>70%</td>\n",
              "      <td>France</td>\n",
              "      <td>3.50</td>\n",
              "      <td>NaN</td>\n",
              "      <td>Togo</td>\n",
              "    </tr>\n",
              "    <tr>\n",
              "      <th>4</th>\n",
              "      <td>A. Morin</td>\n",
              "      <td>Quilla</td>\n",
              "      <td>1704</td>\n",
              "      <td>2015</td>\n",
              "      <td>70%</td>\n",
              "      <td>France</td>\n",
              "      <td>3.50</td>\n",
              "      <td>NaN</td>\n",
              "      <td>Peru</td>\n",
              "    </tr>\n",
              "    <tr>\n",
              "      <th>...</th>\n",
              "      <td>...</td>\n",
              "      <td>...</td>\n",
              "      <td>...</td>\n",
              "      <td>...</td>\n",
              "      <td>...</td>\n",
              "      <td>...</td>\n",
              "      <td>...</td>\n",
              "      <td>...</td>\n",
              "      <td>...</td>\n",
              "    </tr>\n",
              "    <tr>\n",
              "      <th>15</th>\n",
              "      <td>A. Morin</td>\n",
              "      <td>Birmanie</td>\n",
              "      <td>1015</td>\n",
              "      <td>2013</td>\n",
              "      <td>70%</td>\n",
              "      <td>France</td>\n",
              "      <td>3.00</td>\n",
              "      <td>NaN</td>\n",
              "      <td>Burma</td>\n",
              "    </tr>\n",
              "    <tr>\n",
              "      <th>16</th>\n",
              "      <td>A. Morin</td>\n",
              "      <td>Papua New Guinea</td>\n",
              "      <td>1015</td>\n",
              "      <td>2013</td>\n",
              "      <td>70%</td>\n",
              "      <td>France</td>\n",
              "      <td>3.25</td>\n",
              "      <td>NaN</td>\n",
              "      <td>Papua New Guinea</td>\n",
              "    </tr>\n",
              "    <tr>\n",
              "      <th>17</th>\n",
              "      <td>A. Morin</td>\n",
              "      <td>Chuao</td>\n",
              "      <td>1015</td>\n",
              "      <td>2013</td>\n",
              "      <td>70%</td>\n",
              "      <td>France</td>\n",
              "      <td>4.00</td>\n",
              "      <td>Trinitario</td>\n",
              "      <td>Venezuela</td>\n",
              "    </tr>\n",
              "    <tr>\n",
              "      <th>18</th>\n",
              "      <td>A. Morin</td>\n",
              "      <td>Piura</td>\n",
              "      <td>1019</td>\n",
              "      <td>2013</td>\n",
              "      <td>70%</td>\n",
              "      <td>France</td>\n",
              "      <td>3.25</td>\n",
              "      <td>NaN</td>\n",
              "      <td>Peru</td>\n",
              "    </tr>\n",
              "    <tr>\n",
              "      <th>19</th>\n",
              "      <td>A. Morin</td>\n",
              "      <td>Chanchamayo Province</td>\n",
              "      <td>1019</td>\n",
              "      <td>2013</td>\n",
              "      <td>70%</td>\n",
              "      <td>France</td>\n",
              "      <td>3.50</td>\n",
              "      <td>NaN</td>\n",
              "      <td>Peru</td>\n",
              "    </tr>\n",
              "  </tbody>\n",
              "</table>\n",
              "<p>20 rows × 9 columns</p>\n",
              "</div>"
            ],
            "text/plain": [
              "       maker       specific_origin  ...   bean_type      broad_origin\n",
              "0   A. Morin           Agua Grande  ...         NaN          Sao Tome\n",
              "1   A. Morin                 Kpime  ...         NaN              Togo\n",
              "2   A. Morin                Atsane  ...         NaN              Togo\n",
              "3   A. Morin                 Akata  ...         NaN              Togo\n",
              "4   A. Morin                Quilla  ...         NaN              Peru\n",
              "..       ...                   ...  ...         ...               ...\n",
              "15  A. Morin              Birmanie  ...         NaN             Burma\n",
              "16  A. Morin      Papua New Guinea  ...         NaN  Papua New Guinea\n",
              "17  A. Morin                 Chuao  ...  Trinitario         Venezuela\n",
              "18  A. Morin                 Piura  ...         NaN              Peru\n",
              "19  A. Morin  Chanchamayo Province  ...         NaN              Peru\n",
              "\n",
              "[20 rows x 9 columns]"
            ]
          },
          "metadata": {
            "tags": []
          },
          "execution_count": 4
        }
      ]
    },
    {
      "cell_type": "markdown",
      "metadata": {
        "id": "nrqwBfSaKWw4"
      },
      "source": [
        "## 3. Clean the data"
      ]
    },
    {
      "cell_type": "code",
      "metadata": {
        "colab": {
          "base_uri": "https://localhost:8080/",
          "height": 204
        },
        "id": "er1oUwzAI5a0",
        "outputId": "fe11358b-ec1a-4ff9-fad7-a2569f38785f"
      },
      "source": [
        "# Replace empty/null values 'bean_type' and cast to string to remove leading 'u'\n",
        "choc_data['bean_type'] = choc_data['bean_type'].fillna('Blend')\n",
        "choc_data['bean_type'] = choc_data['bean_type'].astype(str)\n",
        "\n",
        "# Change 'cocoa_percent' to numeric (floating-point)\n",
        "choc_data['cocoa_percent'] = choc_data['cocoa_percent'].str.strip('%')\n",
        "choc_data['cocoa_percent'] = pd.to_numeric(choc_data['cocoa_percent'])\n",
        "\n",
        "# Correct spelling mistakes, and replace city with country name\n",
        "choc_data['maker_location'] = choc_data['maker_location']\\\n",
        ".str.replace('Amsterdam', 'Holland')\\\n",
        ".str.replace('U.K.', 'England')\\\n",
        ".str.replace('Niacragua', 'Nicaragua')\\\n",
        ".str.replace('Domincan Republic', 'Dominican Republic')\n",
        "\n",
        "# Map Holland and Netherlands to the same country.\n",
        "choc_data['maker_location'] = choc_data['maker_location']\\\n",
        ".str.replace('Holland', 'Netherlands')\n",
        "\n",
        "def cleanup_spelling_abbrev(text):\n",
        "    replacements = [\n",
        "        ['-', ', '], ['/ ', ', '], ['/', ', '], ['\\(', ', '], [' and', ', '], [' &', ', '], ['\\)', ''],\n",
        "        ['Dom Rep|DR|Domin Rep|Dominican Rep,|Domincan Republic', 'Dominican Republic'],\n",
        "        ['Mad,|Mad$', 'Madagascar, '],\n",
        "        ['PNG', 'Papua New Guinea, '],\n",
        "        ['Guat,|Guat$', 'Guatemala, '],\n",
        "        ['Ven,|Ven$|Venez,|Venez$', 'Venezuela, '],\n",
        "        ['Ecu,|Ecu$|Ecuad,|Ecuad$', 'Ecuador, '],\n",
        "        ['Nic,|Nic$', 'Nicaragua, '],\n",
        "        ['Cost Rica', 'Costa Rica'],\n",
        "        ['Mex,|Mex$', 'Mexico, '],\n",
        "        ['Jam,|Jam$', 'Jamaica, '],\n",
        "        ['Haw,|Haw$', 'Hawaii, '],\n",
        "        ['Gre,|Gre$', 'Grenada, '],\n",
        "        ['Tri,|Tri$', 'Trinidad, '],\n",
        "        ['C Am', 'Central America'],\n",
        "        ['S America', 'South America'],\n",
        "        [', $', ''], [',  ', ', '], [', ,', ', '], ['\\xa0', ' '],[',\\s+', ','],\n",
        "        [' Bali', ',Bali']\n",
        "    ]\n",
        "    for i, j in replacements:\n",
        "        text = re.sub(i, j, text)\n",
        "    return text\n",
        "choc_data['specific_origin'] = choc_data['specific_origin'].str.replace('.', '').apply(cleanup_spelling_abbrev)\n",
        "\n",
        "# Cast specific_origin to string\n",
        "choc_data['specific_origin'] = choc_data['specific_origin'].astype(str)\n",
        "\n",
        "# Replace null-valued fields with the same value as for specific_origin\n",
        "choc_data['broad_origin'] = choc_data['broad_origin'].fillna(choc_data['specific_origin'])\n",
        "\n",
        "# Clean up spelling mistakes and deal with abbreviations\n",
        "choc_data['broad_origin'] = choc_data['broad_origin'].str.replace('.', '').apply(cleanup_spelling_abbrev)\n",
        "\n",
        "# Change 'Trinitario, Criollo' to \"Criollo, Trinitario\"\n",
        "#choc_data['bean_type'].unique() # check\n",
        "choc_data.loc[choc_data['bean_type'].isin(['Trinitario, Criollo']),'bean_type'] = \"Criollo, Trinitario\"\n",
        "#choc_data[choc_data['bean_type'].isin(['Trinitario, Criollo'])] # confirm\n",
        "\n",
        "# Fix chocolate maker names\n",
        "choc_data.loc[choc_data['maker']=='Shattel','maker'] = 'Shattell'\n",
        "choc_data['maker'] = choc_data['maker'].str.replace(u'Na\\xef\\xbf\\xbdve','Naive')\n",
        "\n",
        "# Save the original column names\n",
        "original_cols = choc_data.columns.values\n",
        "\n",
        "choc_data.head()"
      ],
      "execution_count": 5,
      "outputs": [
        {
          "output_type": "execute_result",
          "data": {
            "text/html": [
              "<div>\n",
              "<style scoped>\n",
              "    .dataframe tbody tr th:only-of-type {\n",
              "        vertical-align: middle;\n",
              "    }\n",
              "\n",
              "    .dataframe tbody tr th {\n",
              "        vertical-align: top;\n",
              "    }\n",
              "\n",
              "    .dataframe thead th {\n",
              "        text-align: right;\n",
              "    }\n",
              "</style>\n",
              "<table border=\"1\" class=\"dataframe\">\n",
              "  <thead>\n",
              "    <tr style=\"text-align: right;\">\n",
              "      <th></th>\n",
              "      <th>maker</th>\n",
              "      <th>specific_origin</th>\n",
              "      <th>reference_number</th>\n",
              "      <th>review_date</th>\n",
              "      <th>cocoa_percent</th>\n",
              "      <th>maker_location</th>\n",
              "      <th>rating</th>\n",
              "      <th>bean_type</th>\n",
              "      <th>broad_origin</th>\n",
              "    </tr>\n",
              "  </thead>\n",
              "  <tbody>\n",
              "    <tr>\n",
              "      <th>0</th>\n",
              "      <td>A. Morin</td>\n",
              "      <td>Agua Grande</td>\n",
              "      <td>1876</td>\n",
              "      <td>2016</td>\n",
              "      <td>63.00</td>\n",
              "      <td>France</td>\n",
              "      <td>3.75</td>\n",
              "      <td>Blend</td>\n",
              "      <td>Sao Tome</td>\n",
              "    </tr>\n",
              "    <tr>\n",
              "      <th>1</th>\n",
              "      <td>A. Morin</td>\n",
              "      <td>Kpime</td>\n",
              "      <td>1676</td>\n",
              "      <td>2015</td>\n",
              "      <td>70.00</td>\n",
              "      <td>France</td>\n",
              "      <td>2.75</td>\n",
              "      <td>Blend</td>\n",
              "      <td>Togo</td>\n",
              "    </tr>\n",
              "    <tr>\n",
              "      <th>2</th>\n",
              "      <td>A. Morin</td>\n",
              "      <td>Atsane</td>\n",
              "      <td>1676</td>\n",
              "      <td>2015</td>\n",
              "      <td>70.00</td>\n",
              "      <td>France</td>\n",
              "      <td>3.00</td>\n",
              "      <td>Blend</td>\n",
              "      <td>Togo</td>\n",
              "    </tr>\n",
              "    <tr>\n",
              "      <th>3</th>\n",
              "      <td>A. Morin</td>\n",
              "      <td>Akata</td>\n",
              "      <td>1680</td>\n",
              "      <td>2015</td>\n",
              "      <td>70.00</td>\n",
              "      <td>France</td>\n",
              "      <td>3.50</td>\n",
              "      <td>Blend</td>\n",
              "      <td>Togo</td>\n",
              "    </tr>\n",
              "    <tr>\n",
              "      <th>4</th>\n",
              "      <td>A. Morin</td>\n",
              "      <td>Quilla</td>\n",
              "      <td>1704</td>\n",
              "      <td>2015</td>\n",
              "      <td>70.00</td>\n",
              "      <td>France</td>\n",
              "      <td>3.50</td>\n",
              "      <td>Blend</td>\n",
              "      <td>Peru</td>\n",
              "    </tr>\n",
              "  </tbody>\n",
              "</table>\n",
              "</div>"
            ],
            "text/plain": [
              "      maker specific_origin  reference_number  ...  rating  bean_type broad_origin\n",
              "0  A. Morin     Agua Grande              1876  ...    3.75      Blend     Sao Tome\n",
              "1  A. Morin           Kpime              1676  ...    2.75      Blend         Togo\n",
              "2  A. Morin          Atsane              1676  ...    3.00      Blend         Togo\n",
              "3  A. Morin           Akata              1680  ...    3.50      Blend         Togo\n",
              "4  A. Morin          Quilla              1704  ...    3.50      Blend         Peru\n",
              "\n",
              "[5 rows x 9 columns]"
            ]
          },
          "metadata": {
            "tags": []
          },
          "execution_count": 5
        }
      ]
    },
    {
      "cell_type": "markdown",
      "metadata": {
        "id": "aIOACI88KI1k"
      },
      "source": [
        "# 4. Explore and Preprocess the Data\n",
        "\n",
        "As needed:\n",
        "* Normalize with z-score (for Gaussian distribution)\n",
        "* Log transform (for Power Law distribution)\n",
        "* Bucket using quantiles"
      ]
    },
    {
      "cell_type": "markdown",
      "metadata": {
        "id": "yjhRu_W3b9eK"
      },
      "source": [
        "#### Analyze *review_date*"
      ]
    },
    {
      "cell_type": "code",
      "metadata": {
        "cellView": "both",
        "id": "bJ-3B0OaKRyT",
        "colab": {
          "base_uri": "https://localhost:8080/",
          "height": 386
        },
        "outputId": "2f3586a0-d1ce-48f7-fcaf-2c6c2b47b238"
      },
      "source": [
        "sns.displot(choc_data['review_date'])"
      ],
      "execution_count": 6,
      "outputs": [
        {
          "output_type": "execute_result",
          "data": {
            "text/plain": [
              "<seaborn.axisgrid.FacetGrid at 0x7fd935951080>"
            ]
          },
          "metadata": {
            "tags": []
          },
          "execution_count": 6
        },
        {
          "output_type": "display_data",
          "data": {
            "image/png": "[encoded data removed]",
            "text/plain": [
              "<Figure size 360x360 with 1 Axes>"
            ]
          },
          "metadata": {
            "tags": [],
            "needs_background": "light"
          }
        }
      ]
    },
    {
      "cell_type": "markdown",
      "metadata": {
        "id": "NSJ1wLMebR-6"
      },
      "source": [
        "`review_date`: It looks like no one ate chocolate in 2009 and 2013. However, the overall chocolate eating trend is positive."
      ]
    },
    {
      "cell_type": "markdown",
      "metadata": {
        "id": "SzdEj9sycFZA"
      },
      "source": [
        "#### Analyze *rating*"
      ]
    },
    {
      "cell_type": "code",
      "metadata": {
        "cellView": "both",
        "id": "8XQ5CZ0uFIlh",
        "colab": {
          "base_uri": "https://localhost:8080/",
          "height": 386
        },
        "outputId": "29dc2076-6216-4e43-faad-ced0b38d5e0d"
      },
      "source": [
        "sns.displot(choc_data['rating'])"
      ],
      "execution_count": 7,
      "outputs": [
        {
          "output_type": "execute_result",
          "data": {
            "text/plain": [
              "<seaborn.axisgrid.FacetGrid at 0x7fd932d38438>"
            ]
          },
          "metadata": {
            "tags": []
          },
          "execution_count": 7
        },
        {
          "output_type": "display_data",
          "data": {
            "image/png": "[encoded data removed]",
            "text/plain": [
              "<Figure size 360x360 with 1 Axes>"
            ]
          },
          "metadata": {
            "tags": [],
            "needs_background": "light"
          }
        }
      ]
    },
    {
      "cell_type": "markdown",
      "metadata": {
        "id": "01RF1MRDAPjC"
      },
      "source": [
        "`rating`: Distribution is roughly a *Gaussian* distribution. So, *normalize* using *z-score*."
      ]
    },
    {
      "cell_type": "code",
      "metadata": {
        "cellView": "both",
        "id": "fl9HsbYIoJkl"
      },
      "source": [
        "choc_data['rating_norm'] = (choc_data['rating'] - choc_data['rating'].mean()) / choc_data['rating'].std()"
      ],
      "execution_count": 8,
      "outputs": []
    },
    {
      "cell_type": "markdown",
      "metadata": {
        "id": "I43BoqrXcKQb"
      },
      "source": [
        "#### Analyze *cocoa_percent*"
      ]
    },
    {
      "cell_type": "code",
      "metadata": {
        "cellView": "both",
        "id": "nIQSWYYLGQeK",
        "colab": {
          "base_uri": "https://localhost:8080/",
          "height": 386
        },
        "outputId": "8feb1219-1134-4522-9678-d908a7f25fb7"
      },
      "source": [
        "sns.displot(choc_data['cocoa_percent'])"
      ],
      "execution_count": 9,
      "outputs": [
        {
          "output_type": "execute_result",
          "data": {
            "text/plain": [
              "<seaborn.axisgrid.FacetGrid at 0x7fd931ff2b00>"
            ]
          },
          "metadata": {
            "tags": []
          },
          "execution_count": 9
        },
        {
          "output_type": "display_data",
          "data": {
            "image/png": "[encoded data removed]",
            "text/plain": [
              "<Figure size 360x360 with 1 Axes>"
            ]
          },
          "metadata": {
            "tags": [],
            "needs_background": "light"
          }
        }
      ]
    },
    {
      "cell_type": "markdown",
      "metadata": {
        "id": "zpJgcmP9Aedg"
      },
      "source": [
        "`cocoa_percent`: Close to a Gaussian distribution. So, *normalize* using *z-score*."
      ]
    },
    {
      "cell_type": "code",
      "metadata": {
        "cellView": "both",
        "id": "1YSde7nloLt5"
      },
      "source": [
        "choc_data['cocoa_percent_norm'] = (choc_data['cocoa_percent'] - choc_data['cocoa_percent'].mean()) / choc_data['cocoa_percent'].std()"
      ],
      "execution_count": 10,
      "outputs": []
    },
    {
      "cell_type": "markdown",
      "metadata": {
        "id": "zNn0n3Kqf5Ta"
      },
      "source": [
        "#### Map countries to latitude and longitude\n",
        "Use Dataset Publishing Language (DSPL) Countries table and joins it with our chocolate reviews table, using the country name as the key. Approximating countries by the latitude and longitude of their centers.\n",
        "\n",
        "Newly created `maker_lat`, `maker_long`, `origin_lat`, and `origin_long` fields."
      ]
    },
    {
      "cell_type": "code",
      "metadata": {
        "id": "AdJyelmJJ-9h"
      },
      "source": [
        "# Load lat long data\n",
        "countries_info = pd.read_csv(\"https://download.mlcc.google.com/mledu-datasets/countries_lat_long.csv\", sep=\",\", encoding='latin-1')\n",
        "\n",
        "# Join the chocolate review and geographic information tables on 'maker country' name\n",
        "choc_data = pd.merge(choc_data, countries_info, left_on=\"maker_location\", right_on=\"name\")\n",
        "choc_data.rename(columns={\"longitude\": \"maker_long\", \"latitude\": \"maker_lat\"}, inplace=True)\n",
        "choc_data.drop(columns=[\"name\", \"country\"], inplace=True)  # don't need this data\n",
        "\n",
        "# Join the chocolate review and geographic information tables on 'origin country' name\n",
        "choc_data = pd.merge(choc_data, countries_info, left_on=\"broad_origin\", right_on=\"name\")\n",
        "choc_data.rename(columns={\"longitude\": \"origin_long\", \"latitude\": \"origin_lat\"}, inplace=True)\n",
        "choc_data.drop(columns=[\"name\", \"country\"], inplace=True)  # don't need this data"
      ],
      "execution_count": 11,
      "outputs": []
    },
    {
      "cell_type": "markdown",
      "metadata": {
        "id": "NBoiApVwgRb5"
      },
      "source": [
        "#### Analyze the latitudes and longitudes"
      ]
    },
    {
      "cell_type": "code",
      "metadata": {
        "cellView": "both",
        "id": "6yImioS8Lqwd",
        "colab": {
          "base_uri": "https://localhost:8080/",
          "height": 386
        },
        "outputId": "3953b96b-f3ad-429d-b138-023a418a955c"
      },
      "source": [
        "sns.displot(choc_data['maker_lat'])"
      ],
      "execution_count": 12,
      "outputs": [
        {
          "output_type": "execute_result",
          "data": {
            "text/plain": [
              "<seaborn.axisgrid.FacetGrid at 0x7fd931f1a860>"
            ]
          },
          "metadata": {
            "tags": []
          },
          "execution_count": 12
        },
        {
          "output_type": "display_data",
          "data": {
            "image/png": "[encoded data removed]",
            "text/plain": [
              "<Figure size 360x360 with 1 Axes>"
            ]
          },
          "metadata": {
            "tags": [],
            "needs_background": "light"
          }
        }
      ]
    },
    {
      "cell_type": "code",
      "metadata": {
        "colab": {
          "base_uri": "https://localhost:8080/",
          "height": 386
        },
        "id": "UlwvE4RdeJGA",
        "outputId": "1e515ab9-67f6-4fe6-fbb4-c9db9f68ab1b"
      },
      "source": [
        "sns.displot(choc_data['maker_long'])"
      ],
      "execution_count": 13,
      "outputs": [
        {
          "output_type": "execute_result",
          "data": {
            "text/plain": [
              "<seaborn.axisgrid.FacetGrid at 0x7fd931ee6ba8>"
            ]
          },
          "metadata": {
            "tags": []
          },
          "execution_count": 13
        },
        {
          "output_type": "display_data",
          "data": {
            "image/png": "[encoded data removed]",
            "text/plain": [
              "<Figure size 360x360 with 1 Axes>"
            ]
          },
          "metadata": {
            "tags": [],
            "needs_background": "light"
          }
        }
      ]
    },
    {
      "cell_type": "code",
      "metadata": {
        "colab": {
          "base_uri": "https://localhost:8080/",
          "height": 386
        },
        "id": "Sl8rmzt3eQxx",
        "outputId": "035147e1-e4e8-48db-f0e6-c674781174b7"
      },
      "source": [
        "sns.displot(choc_data['origin_lat'])"
      ],
      "execution_count": 14,
      "outputs": [
        {
          "output_type": "execute_result",
          "data": {
            "text/plain": [
              "<seaborn.axisgrid.FacetGrid at 0x7fd931de55f8>"
            ]
          },
          "metadata": {
            "tags": []
          },
          "execution_count": 14
        },
        {
          "output_type": "display_data",
          "data": {
            "image/png": "[encoded data removed]",
            "text/plain": [
              "<Figure size 360x360 with 1 Axes>"
            ]
          },
          "metadata": {
            "tags": [],
            "needs_background": "light"
          }
        }
      ]
    },
    {
      "cell_type": "code",
      "metadata": {
        "colab": {
          "base_uri": "https://localhost:8080/",
          "height": 386
        },
        "id": "ZlecyVH8eTwr",
        "outputId": "f3b7cd47-e10c-4d19-e5f1-c355bd98e3f9"
      },
      "source": [
        "sns.displot(choc_data['origin_long'])"
      ],
      "execution_count": 15,
      "outputs": [
        {
          "output_type": "execute_result",
          "data": {
            "text/plain": [
              "<seaborn.axisgrid.FacetGrid at 0x7fd931ede588>"
            ]
          },
          "metadata": {
            "tags": []
          },
          "execution_count": 15
        },
        {
          "output_type": "display_data",
          "data": {
            "image/png": "[encoded data removed]",
            "text/plain": [
              "<Figure size 360x360 with 1 Axes>"
            ]
          },
          "metadata": {
            "tags": [],
            "needs_background": "light"
          }
        }
      ]
    },
    {
      "cell_type": "markdown",
      "metadata": {
        "id": "Cg1t5qmngcCZ"
      },
      "source": [
        "Since latitude and longitude don't follow a specific distribution, we *bucket* them using *quantiles*."
      ]
    },
    {
      "cell_type": "code",
      "metadata": {
        "cellView": "both",
        "id": "2RsiAsB3HRqu",
        "colab": {
          "base_uri": "https://localhost:8080/",
          "height": 258
        },
        "outputId": "c3dff1ee-cfd1-40b2-bb2f-d81db994a538"
      },
      "source": [
        "numQuantiles = 20\n",
        "colsQuantiles = ['maker_lat', 'maker_long', 'origin_lat', 'origin_long']\n",
        "\n",
        "def createQuantiles(dfColumn, numQuantiles):\n",
        "  return pd.qcut(dfColumn, numQuantiles, labels=False, duplicates='drop')\n",
        "\n",
        "\n",
        "for string in colsQuantiles:\n",
        "  choc_data[string] = createQuantiles(choc_data[string], numQuantiles)\n",
        "  \n",
        "choc_data.tail()"
      ],
      "execution_count": 16,
      "outputs": [
        {
          "output_type": "execute_result",
          "data": {
            "text/html": [
              "<div>\n",
              "<style scoped>\n",
              "    .dataframe tbody tr th:only-of-type {\n",
              "        vertical-align: middle;\n",
              "    }\n",
              "\n",
              "    .dataframe tbody tr th {\n",
              "        vertical-align: top;\n",
              "    }\n",
              "\n",
              "    .dataframe thead th {\n",
              "        text-align: right;\n",
              "    }\n",
              "</style>\n",
              "<table border=\"1\" class=\"dataframe\">\n",
              "  <thead>\n",
              "    <tr style=\"text-align: right;\">\n",
              "      <th></th>\n",
              "      <th>maker</th>\n",
              "      <th>specific_origin</th>\n",
              "      <th>reference_number</th>\n",
              "      <th>review_date</th>\n",
              "      <th>cocoa_percent</th>\n",
              "      <th>maker_location</th>\n",
              "      <th>rating</th>\n",
              "      <th>bean_type</th>\n",
              "      <th>broad_origin</th>\n",
              "      <th>rating_norm</th>\n",
              "      <th>cocoa_percent_norm</th>\n",
              "      <th>maker_lat</th>\n",
              "      <th>maker_long</th>\n",
              "      <th>origin_lat</th>\n",
              "      <th>origin_long</th>\n",
              "    </tr>\n",
              "  </thead>\n",
              "  <tbody>\n",
              "    <tr>\n",
              "      <th>782</th>\n",
              "      <td>Mesocacao</td>\n",
              "      <td>Honduras</td>\n",
              "      <td>1347</td>\n",
              "      <td>2014</td>\n",
              "      <td>70.00</td>\n",
              "      <td>Honduras</td>\n",
              "      <td>3.50</td>\n",
              "      <td>Blend</td>\n",
              "      <td>Honduras</td>\n",
              "      <td>0.66</td>\n",
              "      <td>-0.27</td>\n",
              "      <td>6</td>\n",
              "      <td>0</td>\n",
              "      <td>10</td>\n",
              "      <td>1</td>\n",
              "    </tr>\n",
              "    <tr>\n",
              "      <th>783</th>\n",
              "      <td>Malagos</td>\n",
              "      <td>Davao,Mt Talamo foothills</td>\n",
              "      <td>1121</td>\n",
              "      <td>2013</td>\n",
              "      <td>65.00</td>\n",
              "      <td>Philippines</td>\n",
              "      <td>3.50</td>\n",
              "      <td>Trinitario</td>\n",
              "      <td>Philippines</td>\n",
              "      <td>0.66</td>\n",
              "      <td>-1.06</td>\n",
              "      <td>6</td>\n",
              "      <td>13</td>\n",
              "      <td>10</td>\n",
              "      <td>12</td>\n",
              "    </tr>\n",
              "    <tr>\n",
              "      <th>784</th>\n",
              "      <td>Mesocacao</td>\n",
              "      <td>El Salvador</td>\n",
              "      <td>1494</td>\n",
              "      <td>2015</td>\n",
              "      <td>80.00</td>\n",
              "      <td>Honduras</td>\n",
              "      <td>2.75</td>\n",
              "      <td>Blend</td>\n",
              "      <td>El Salvador</td>\n",
              "      <td>-0.91</td>\n",
              "      <td>1.31</td>\n",
              "      <td>6</td>\n",
              "      <td>0</td>\n",
              "      <td>10</td>\n",
              "      <td>0</td>\n",
              "    </tr>\n",
              "    <tr>\n",
              "      <th>785</th>\n",
              "      <td>Mesocacao</td>\n",
              "      <td>El Salvador</td>\n",
              "      <td>1494</td>\n",
              "      <td>2015</td>\n",
              "      <td>70.00</td>\n",
              "      <td>Honduras</td>\n",
              "      <td>3.00</td>\n",
              "      <td>Blend</td>\n",
              "      <td>El Salvador</td>\n",
              "      <td>-0.39</td>\n",
              "      <td>-0.27</td>\n",
              "      <td>6</td>\n",
              "      <td>0</td>\n",
              "      <td>10</td>\n",
              "      <td>0</td>\n",
              "    </tr>\n",
              "    <tr>\n",
              "      <th>786</th>\n",
              "      <td>Tan Ban Skrati</td>\n",
              "      <td>Paramaribo,batch 20160043,01</td>\n",
              "      <td>1868</td>\n",
              "      <td>2016</td>\n",
              "      <td>70.00</td>\n",
              "      <td>Suriname</td>\n",
              "      <td>3.25</td>\n",
              "      <td>Trinitario</td>\n",
              "      <td>Suriname</td>\n",
              "      <td>0.13</td>\n",
              "      <td>-0.27</td>\n",
              "      <td>4</td>\n",
              "      <td>4</td>\n",
              "      <td>7</td>\n",
              "      <td>8</td>\n",
              "    </tr>\n",
              "  </tbody>\n",
              "</table>\n",
              "</div>"
            ],
            "text/plain": [
              "              maker               specific_origin  ...  origin_lat  origin_long\n",
              "782       Mesocacao                      Honduras  ...          10            1\n",
              "783         Malagos     Davao,Mt Talamo foothills  ...          10           12\n",
              "784       Mesocacao                   El Salvador  ...          10            0\n",
              "785       Mesocacao                   El Salvador  ...          10            0\n",
              "786  Tan Ban Skrati  Paramaribo,batch 20160043,01  ...           7            8\n",
              "\n",
              "[5 rows x 15 columns]"
            ]
          },
          "metadata": {
            "tags": []
          },
          "execution_count": 16
        }
      ]
    },
    {
      "cell_type": "markdown",
      "metadata": {
        "id": "fpT98u1JWfoE"
      },
      "source": [
        "Quantile values range up to 20. Bring quantile values to the same scale as other feature data by scaling them to [0,1]."
      ]
    },
    {
      "cell_type": "code",
      "metadata": {
        "id": "ypMg6cVxW0Uq"
      },
      "source": [
        "def minMaxScaler(numArr):\n",
        "  minx = np.min(numArr)\n",
        "  maxx = np.max(numArr)\n",
        "  numArr = (numArr - minx) / (maxx - minx)\n",
        "  return numArr\n",
        "\n",
        "\n",
        "for string in colsQuantiles:\n",
        "  choc_data[string] = minMaxScaler(choc_data[string])"
      ],
      "execution_count": 17,
      "outputs": []
    },
    {
      "cell_type": "markdown",
      "metadata": {
        "id": "m23IAig1WonY"
      },
      "source": [
        "#### Convert categorical features into one-hot encoding\n",
        "* `maker`\n",
        "* `bean_type`"
      ]
    },
    {
      "cell_type": "code",
      "metadata": {
        "cellView": "both",
        "id": "pZ29GSFWSTJA"
      },
      "source": [
        "# duplicate the \"maker\" feature since it's removed by one-hot encoding function\n",
        "choc_data['maker2'] = choc_data['maker']\n",
        "choc_data = pd.get_dummies(choc_data, columns=['maker2'], prefix=['maker'])\n",
        "# similarly, duplicate the \"bean_type\" feature\n",
        "choc_data['bean_type2'] = choc_data['bean_type']\n",
        "choc_data = pd.get_dummies(choc_data, columns=['bean_type2'], prefix=['bean'])"
      ],
      "execution_count": 18,
      "outputs": []
    },
    {
      "cell_type": "markdown",
      "metadata": {
        "id": "k3pEOmohW9q5"
      },
      "source": [
        "Keep only the processed data in `choc_data`. Original data moved to `choc_data_backup`."
      ]
    },
    {
      "cell_type": "code",
      "metadata": {
        "cellView": "both",
        "id": "3pJutwixXpfy"
      },
      "source": [
        "choc_data_backup = choc_data.loc[:, original_cols].copy(deep=True)\n",
        "choc_data.drop(columns=original_cols, inplace=True)\n",
        "choc_data = choc_data / 1.0 # convert one-hot encodings to floats"
      ],
      "execution_count": 19,
      "outputs": []
    },
    {
      "cell_type": "code",
      "metadata": {
        "cellView": "both",
        "id": "nwWcnf4IpF7V",
        "colab": {
          "base_uri": "https://localhost:8080/",
          "height": 287
        },
        "outputId": "d0a840cb-c6dc-43cf-8f46-e3c0cf290392"
      },
      "source": [
        "choc_data.tail()"
      ],
      "execution_count": 20,
      "outputs": [
        {
          "output_type": "execute_result",
          "data": {
            "text/html": [
              "<div>\n",
              "<style scoped>\n",
              "    .dataframe tbody tr th:only-of-type {\n",
              "        vertical-align: middle;\n",
              "    }\n",
              "\n",
              "    .dataframe tbody tr th {\n",
              "        vertical-align: top;\n",
              "    }\n",
              "\n",
              "    .dataframe thead th {\n",
              "        text-align: right;\n",
              "    }\n",
              "</style>\n",
              "<table border=\"1\" class=\"dataframe\">\n",
              "  <thead>\n",
              "    <tr style=\"text-align: right;\">\n",
              "      <th></th>\n",
              "      <th>rating_norm</th>\n",
              "      <th>cocoa_percent_norm</th>\n",
              "      <th>maker_lat</th>\n",
              "      <th>maker_long</th>\n",
              "      <th>origin_lat</th>\n",
              "      <th>origin_long</th>\n",
              "      <th>maker_A. Morin</th>\n",
              "      <th>maker_AMMA</th>\n",
              "      <th>maker_Adi</th>\n",
              "      <th>maker_Aequare (Gianduja)</th>\n",
              "      <th>maker_Ah Cacao</th>\n",
              "      <th>maker_Akesson's (Pralus)</th>\n",
              "      <th>maker_Alain Ducasse</th>\n",
              "      <th>maker_Alexandre</th>\n",
              "      <th>maker_Amatller (Simon Coll)</th>\n",
              "      <th>maker_Amazona</th>\n",
              "      <th>maker_Ambrosia</th>\n",
              "      <th>maker_Amedei</th>\n",
              "      <th>maker_Ara</th>\n",
              "      <th>maker_Bahen &amp; Co.</th>\n",
              "      <th>maker_Bakau</th>\n",
              "      <th>maker_Belcolade</th>\n",
              "      <th>maker_Belyzium</th>\n",
              "      <th>maker_Benoit Nihant</th>\n",
              "      <th>maker_Beschle (Felchlin)</th>\n",
              "      <th>maker_Bonnat</th>\n",
              "      <th>maker_Bouga Cacao (Tulicorp)</th>\n",
              "      <th>maker_Bright</th>\n",
              "      <th>maker_Britarev</th>\n",
              "      <th>maker_C-Amaro</th>\n",
              "      <th>maker_Cacao Arabuco</th>\n",
              "      <th>maker_Cacao Barry</th>\n",
              "      <th>maker_Cacao Hunters</th>\n",
              "      <th>maker_Cacao Sampaka</th>\n",
              "      <th>maker_Cacao Store</th>\n",
              "      <th>maker_Cacao de Origen</th>\n",
              "      <th>maker_Cacao de Origin</th>\n",
              "      <th>maker_Cacaosuyo (Theobroma Inversiones)</th>\n",
              "      <th>maker_Cacaoyere (Ecuatoriana)</th>\n",
              "      <th>maker_Callebaut</th>\n",
              "      <th>...</th>\n",
              "      <th>maker_Tsara (Cinagra)</th>\n",
              "      <th>maker_Un Dimanche A Paris</th>\n",
              "      <th>maker_Urzi</th>\n",
              "      <th>maker_Valrhona</th>\n",
              "      <th>maker_Vao Vao (Chocolaterie Robert)</th>\n",
              "      <th>maker_Vietcacao (A. Morin)</th>\n",
              "      <th>maker_Wellington Chocolate Factory</th>\n",
              "      <th>maker_Whittakers</th>\n",
              "      <th>maker_Wilkie's Organic</th>\n",
              "      <th>maker_Xocolat</th>\n",
              "      <th>maker_Zart Pralinen</th>\n",
              "      <th>maker_Zokoko</th>\n",
              "      <th>maker_Zotter</th>\n",
              "      <th>maker_organicfair</th>\n",
              "      <th>bean_Blend</th>\n",
              "      <th>bean_Blend-Forastero,Criollo</th>\n",
              "      <th>bean_CCN51</th>\n",
              "      <th>bean_Criollo</th>\n",
              "      <th>bean_Criollo (Amarru)</th>\n",
              "      <th>bean_Criollo (Ocumare 61)</th>\n",
              "      <th>bean_Criollo (Ocumare 67)</th>\n",
              "      <th>bean_Criollo (Ocumare 77)</th>\n",
              "      <th>bean_Criollo (Porcelana)</th>\n",
              "      <th>bean_Criollo (Wild)</th>\n",
              "      <th>bean_Criollo, Forastero</th>\n",
              "      <th>bean_Criollo, Trinitario</th>\n",
              "      <th>bean_Forastero</th>\n",
              "      <th>bean_Forastero (Amelonado)</th>\n",
              "      <th>bean_Forastero (Arriba)</th>\n",
              "      <th>bean_Forastero (Arriba) ASS</th>\n",
              "      <th>bean_Forastero (Arriba) ASSS</th>\n",
              "      <th>bean_Forastero (Catongo)</th>\n",
              "      <th>bean_Forastero (Nacional)</th>\n",
              "      <th>bean_Forastero (Parazinho)</th>\n",
              "      <th>bean_Nacional</th>\n",
              "      <th>bean_Nacional (Arriba)</th>\n",
              "      <th>bean_Trinitario</th>\n",
              "      <th>bean_Trinitario (85% Criollo)</th>\n",
              "      <th>bean_Trinitario (Scavina)</th>\n",
              "      <th>bean_Trinitario, TCGA</th>\n",
              "    </tr>\n",
              "  </thead>\n",
              "  <tbody>\n",
              "    <tr>\n",
              "      <th>782</th>\n",
              "      <td>0.66</td>\n",
              "      <td>-0.27</td>\n",
              "      <td>0.40</td>\n",
              "      <td>0.00</td>\n",
              "      <td>0.77</td>\n",
              "      <td>0.08</td>\n",
              "      <td>0.00</td>\n",
              "      <td>0.00</td>\n",
              "      <td>0.00</td>\n",
              "      <td>0.00</td>\n",
              "      <td>0.00</td>\n",
              "      <td>0.00</td>\n",
              "      <td>0.00</td>\n",
              "      <td>0.00</td>\n",
              "      <td>0.00</td>\n",
              "      <td>0.00</td>\n",
              "      <td>0.00</td>\n",
              "      <td>0.00</td>\n",
              "      <td>0.00</td>\n",
              "      <td>0.00</td>\n",
              "      <td>0.00</td>\n",
              "      <td>0.00</td>\n",
              "      <td>0.00</td>\n",
              "      <td>0.00</td>\n",
              "      <td>0.00</td>\n",
              "      <td>0.00</td>\n",
              "      <td>0.00</td>\n",
              "      <td>0.00</td>\n",
              "      <td>0.00</td>\n",
              "      <td>0.00</td>\n",
              "      <td>0.00</td>\n",
              "      <td>0.00</td>\n",
              "      <td>0.00</td>\n",
              "      <td>0.00</td>\n",
              "      <td>0.00</td>\n",
              "      <td>0.00</td>\n",
              "      <td>0.00</td>\n",
              "      <td>0.00</td>\n",
              "      <td>0.00</td>\n",
              "      <td>0.00</td>\n",
              "      <td>...</td>\n",
              "      <td>0.00</td>\n",
              "      <td>0.00</td>\n",
              "      <td>0.00</td>\n",
              "      <td>0.00</td>\n",
              "      <td>0.00</td>\n",
              "      <td>0.00</td>\n",
              "      <td>0.00</td>\n",
              "      <td>0.00</td>\n",
              "      <td>0.00</td>\n",
              "      <td>0.00</td>\n",
              "      <td>0.00</td>\n",
              "      <td>0.00</td>\n",
              "      <td>0.00</td>\n",
              "      <td>0.00</td>\n",
              "      <td>1.00</td>\n",
              "      <td>0.00</td>\n",
              "      <td>0.00</td>\n",
              "      <td>0.00</td>\n",
              "      <td>0.00</td>\n",
              "      <td>0.00</td>\n",
              "      <td>0.00</td>\n",
              "      <td>0.00</td>\n",
              "      <td>0.00</td>\n",
              "      <td>0.00</td>\n",
              "      <td>0.00</td>\n",
              "      <td>0.00</td>\n",
              "      <td>0.00</td>\n",
              "      <td>0.00</td>\n",
              "      <td>0.00</td>\n",
              "      <td>0.00</td>\n",
              "      <td>0.00</td>\n",
              "      <td>0.00</td>\n",
              "      <td>0.00</td>\n",
              "      <td>0.00</td>\n",
              "      <td>0.00</td>\n",
              "      <td>0.00</td>\n",
              "      <td>0.00</td>\n",
              "      <td>0.00</td>\n",
              "      <td>0.00</td>\n",
              "      <td>0.00</td>\n",
              "    </tr>\n",
              "    <tr>\n",
              "      <th>783</th>\n",
              "      <td>0.66</td>\n",
              "      <td>-1.06</td>\n",
              "      <td>0.40</td>\n",
              "      <td>0.87</td>\n",
              "      <td>0.77</td>\n",
              "      <td>0.92</td>\n",
              "      <td>0.00</td>\n",
              "      <td>0.00</td>\n",
              "      <td>0.00</td>\n",
              "      <td>0.00</td>\n",
              "      <td>0.00</td>\n",
              "      <td>0.00</td>\n",
              "      <td>0.00</td>\n",
              "      <td>0.00</td>\n",
              "      <td>0.00</td>\n",
              "      <td>0.00</td>\n",
              "      <td>0.00</td>\n",
              "      <td>0.00</td>\n",
              "      <td>0.00</td>\n",
              "      <td>0.00</td>\n",
              "      <td>0.00</td>\n",
              "      <td>0.00</td>\n",
              "      <td>0.00</td>\n",
              "      <td>0.00</td>\n",
              "      <td>0.00</td>\n",
              "      <td>0.00</td>\n",
              "      <td>0.00</td>\n",
              "      <td>0.00</td>\n",
              "      <td>0.00</td>\n",
              "      <td>0.00</td>\n",
              "      <td>0.00</td>\n",
              "      <td>0.00</td>\n",
              "      <td>0.00</td>\n",
              "      <td>0.00</td>\n",
              "      <td>0.00</td>\n",
              "      <td>0.00</td>\n",
              "      <td>0.00</td>\n",
              "      <td>0.00</td>\n",
              "      <td>0.00</td>\n",
              "      <td>0.00</td>\n",
              "      <td>...</td>\n",
              "      <td>0.00</td>\n",
              "      <td>0.00</td>\n",
              "      <td>0.00</td>\n",
              "      <td>0.00</td>\n",
              "      <td>0.00</td>\n",
              "      <td>0.00</td>\n",
              "      <td>0.00</td>\n",
              "      <td>0.00</td>\n",
              "      <td>0.00</td>\n",
              "      <td>0.00</td>\n",
              "      <td>0.00</td>\n",
              "      <td>0.00</td>\n",
              "      <td>0.00</td>\n",
              "      <td>0.00</td>\n",
              "      <td>0.00</td>\n",
              "      <td>0.00</td>\n",
              "      <td>0.00</td>\n",
              "      <td>0.00</td>\n",
              "      <td>0.00</td>\n",
              "      <td>0.00</td>\n",
              "      <td>0.00</td>\n",
              "      <td>0.00</td>\n",
              "      <td>0.00</td>\n",
              "      <td>0.00</td>\n",
              "      <td>0.00</td>\n",
              "      <td>0.00</td>\n",
              "      <td>0.00</td>\n",
              "      <td>0.00</td>\n",
              "      <td>0.00</td>\n",
              "      <td>0.00</td>\n",
              "      <td>0.00</td>\n",
              "      <td>0.00</td>\n",
              "      <td>0.00</td>\n",
              "      <td>0.00</td>\n",
              "      <td>0.00</td>\n",
              "      <td>0.00</td>\n",
              "      <td>1.00</td>\n",
              "      <td>0.00</td>\n",
              "      <td>0.00</td>\n",
              "      <td>0.00</td>\n",
              "    </tr>\n",
              "    <tr>\n",
              "      <th>784</th>\n",
              "      <td>-0.91</td>\n",
              "      <td>1.31</td>\n",
              "      <td>0.40</td>\n",
              "      <td>0.00</td>\n",
              "      <td>0.77</td>\n",
              "      <td>0.00</td>\n",
              "      <td>0.00</td>\n",
              "      <td>0.00</td>\n",
              "      <td>0.00</td>\n",
              "      <td>0.00</td>\n",
              "      <td>0.00</td>\n",
              "      <td>0.00</td>\n",
              "      <td>0.00</td>\n",
              "      <td>0.00</td>\n",
              "      <td>0.00</td>\n",
              "      <td>0.00</td>\n",
              "      <td>0.00</td>\n",
              "      <td>0.00</td>\n",
              "      <td>0.00</td>\n",
              "      <td>0.00</td>\n",
              "      <td>0.00</td>\n",
              "      <td>0.00</td>\n",
              "      <td>0.00</td>\n",
              "      <td>0.00</td>\n",
              "      <td>0.00</td>\n",
              "      <td>0.00</td>\n",
              "      <td>0.00</td>\n",
              "      <td>0.00</td>\n",
              "      <td>0.00</td>\n",
              "      <td>0.00</td>\n",
              "      <td>0.00</td>\n",
              "      <td>0.00</td>\n",
              "      <td>0.00</td>\n",
              "      <td>0.00</td>\n",
              "      <td>0.00</td>\n",
              "      <td>0.00</td>\n",
              "      <td>0.00</td>\n",
              "      <td>0.00</td>\n",
              "      <td>0.00</td>\n",
              "      <td>0.00</td>\n",
              "      <td>...</td>\n",
              "      <td>0.00</td>\n",
              "      <td>0.00</td>\n",
              "      <td>0.00</td>\n",
              "      <td>0.00</td>\n",
              "      <td>0.00</td>\n",
              "      <td>0.00</td>\n",
              "      <td>0.00</td>\n",
              "      <td>0.00</td>\n",
              "      <td>0.00</td>\n",
              "      <td>0.00</td>\n",
              "      <td>0.00</td>\n",
              "      <td>0.00</td>\n",
              "      <td>0.00</td>\n",
              "      <td>0.00</td>\n",
              "      <td>1.00</td>\n",
              "      <td>0.00</td>\n",
              "      <td>0.00</td>\n",
              "      <td>0.00</td>\n",
              "      <td>0.00</td>\n",
              "      <td>0.00</td>\n",
              "      <td>0.00</td>\n",
              "      <td>0.00</td>\n",
              "      <td>0.00</td>\n",
              "      <td>0.00</td>\n",
              "      <td>0.00</td>\n",
              "      <td>0.00</td>\n",
              "      <td>0.00</td>\n",
              "      <td>0.00</td>\n",
              "      <td>0.00</td>\n",
              "      <td>0.00</td>\n",
              "      <td>0.00</td>\n",
              "      <td>0.00</td>\n",
              "      <td>0.00</td>\n",
              "      <td>0.00</td>\n",
              "      <td>0.00</td>\n",
              "      <td>0.00</td>\n",
              "      <td>0.00</td>\n",
              "      <td>0.00</td>\n",
              "      <td>0.00</td>\n",
              "      <td>0.00</td>\n",
              "    </tr>\n",
              "    <tr>\n",
              "      <th>785</th>\n",
              "      <td>-0.39</td>\n",
              "      <td>-0.27</td>\n",
              "      <td>0.40</td>\n",
              "      <td>0.00</td>\n",
              "      <td>0.77</td>\n",
              "      <td>0.00</td>\n",
              "      <td>0.00</td>\n",
              "      <td>0.00</td>\n",
              "      <td>0.00</td>\n",
              "      <td>0.00</td>\n",
              "      <td>0.00</td>\n",
              "      <td>0.00</td>\n",
              "      <td>0.00</td>\n",
              "      <td>0.00</td>\n",
              "      <td>0.00</td>\n",
              "      <td>0.00</td>\n",
              "      <td>0.00</td>\n",
              "      <td>0.00</td>\n",
              "      <td>0.00</td>\n",
              "      <td>0.00</td>\n",
              "      <td>0.00</td>\n",
              "      <td>0.00</td>\n",
              "      <td>0.00</td>\n",
              "      <td>0.00</td>\n",
              "      <td>0.00</td>\n",
              "      <td>0.00</td>\n",
              "      <td>0.00</td>\n",
              "      <td>0.00</td>\n",
              "      <td>0.00</td>\n",
              "      <td>0.00</td>\n",
              "      <td>0.00</td>\n",
              "      <td>0.00</td>\n",
              "      <td>0.00</td>\n",
              "      <td>0.00</td>\n",
              "      <td>0.00</td>\n",
              "      <td>0.00</td>\n",
              "      <td>0.00</td>\n",
              "      <td>0.00</td>\n",
              "      <td>0.00</td>\n",
              "      <td>0.00</td>\n",
              "      <td>...</td>\n",
              "      <td>0.00</td>\n",
              "      <td>0.00</td>\n",
              "      <td>0.00</td>\n",
              "      <td>0.00</td>\n",
              "      <td>0.00</td>\n",
              "      <td>0.00</td>\n",
              "      <td>0.00</td>\n",
              "      <td>0.00</td>\n",
              "      <td>0.00</td>\n",
              "      <td>0.00</td>\n",
              "      <td>0.00</td>\n",
              "      <td>0.00</td>\n",
              "      <td>0.00</td>\n",
              "      <td>0.00</td>\n",
              "      <td>1.00</td>\n",
              "      <td>0.00</td>\n",
              "      <td>0.00</td>\n",
              "      <td>0.00</td>\n",
              "      <td>0.00</td>\n",
              "      <td>0.00</td>\n",
              "      <td>0.00</td>\n",
              "      <td>0.00</td>\n",
              "      <td>0.00</td>\n",
              "      <td>0.00</td>\n",
              "      <td>0.00</td>\n",
              "      <td>0.00</td>\n",
              "      <td>0.00</td>\n",
              "      <td>0.00</td>\n",
              "      <td>0.00</td>\n",
              "      <td>0.00</td>\n",
              "      <td>0.00</td>\n",
              "      <td>0.00</td>\n",
              "      <td>0.00</td>\n",
              "      <td>0.00</td>\n",
              "      <td>0.00</td>\n",
              "      <td>0.00</td>\n",
              "      <td>0.00</td>\n",
              "      <td>0.00</td>\n",
              "      <td>0.00</td>\n",
              "      <td>0.00</td>\n",
              "    </tr>\n",
              "    <tr>\n",
              "      <th>786</th>\n",
              "      <td>0.13</td>\n",
              "      <td>-0.27</td>\n",
              "      <td>0.27</td>\n",
              "      <td>0.27</td>\n",
              "      <td>0.54</td>\n",
              "      <td>0.62</td>\n",
              "      <td>0.00</td>\n",
              "      <td>0.00</td>\n",
              "      <td>0.00</td>\n",
              "      <td>0.00</td>\n",
              "      <td>0.00</td>\n",
              "      <td>0.00</td>\n",
              "      <td>0.00</td>\n",
              "      <td>0.00</td>\n",
              "      <td>0.00</td>\n",
              "      <td>0.00</td>\n",
              "      <td>0.00</td>\n",
              "      <td>0.00</td>\n",
              "      <td>0.00</td>\n",
              "      <td>0.00</td>\n",
              "      <td>0.00</td>\n",
              "      <td>0.00</td>\n",
              "      <td>0.00</td>\n",
              "      <td>0.00</td>\n",
              "      <td>0.00</td>\n",
              "      <td>0.00</td>\n",
              "      <td>0.00</td>\n",
              "      <td>0.00</td>\n",
              "      <td>0.00</td>\n",
              "      <td>0.00</td>\n",
              "      <td>0.00</td>\n",
              "      <td>0.00</td>\n",
              "      <td>0.00</td>\n",
              "      <td>0.00</td>\n",
              "      <td>0.00</td>\n",
              "      <td>0.00</td>\n",
              "      <td>0.00</td>\n",
              "      <td>0.00</td>\n",
              "      <td>0.00</td>\n",
              "      <td>0.00</td>\n",
              "      <td>...</td>\n",
              "      <td>0.00</td>\n",
              "      <td>0.00</td>\n",
              "      <td>0.00</td>\n",
              "      <td>0.00</td>\n",
              "      <td>0.00</td>\n",
              "      <td>0.00</td>\n",
              "      <td>0.00</td>\n",
              "      <td>0.00</td>\n",
              "      <td>0.00</td>\n",
              "      <td>0.00</td>\n",
              "      <td>0.00</td>\n",
              "      <td>0.00</td>\n",
              "      <td>0.00</td>\n",
              "      <td>0.00</td>\n",
              "      <td>0.00</td>\n",
              "      <td>0.00</td>\n",
              "      <td>0.00</td>\n",
              "      <td>0.00</td>\n",
              "      <td>0.00</td>\n",
              "      <td>0.00</td>\n",
              "      <td>0.00</td>\n",
              "      <td>0.00</td>\n",
              "      <td>0.00</td>\n",
              "      <td>0.00</td>\n",
              "      <td>0.00</td>\n",
              "      <td>0.00</td>\n",
              "      <td>0.00</td>\n",
              "      <td>0.00</td>\n",
              "      <td>0.00</td>\n",
              "      <td>0.00</td>\n",
              "      <td>0.00</td>\n",
              "      <td>0.00</td>\n",
              "      <td>0.00</td>\n",
              "      <td>0.00</td>\n",
              "      <td>0.00</td>\n",
              "      <td>0.00</td>\n",
              "      <td>1.00</td>\n",
              "      <td>0.00</td>\n",
              "      <td>0.00</td>\n",
              "      <td>0.00</td>\n",
              "    </tr>\n",
              "  </tbody>\n",
              "</table>\n",
              "<p>5 rows × 231 columns</p>\n",
              "</div>"
            ],
            "text/plain": [
              "     rating_norm  ...  bean_Trinitario, TCGA\n",
              "782         0.66  ...                   0.00\n",
              "783         0.66  ...                   0.00\n",
              "784        -0.91  ...                   0.00\n",
              "785        -0.39  ...                   0.00\n",
              "786         0.13  ...                   0.00\n",
              "\n",
              "[5 rows x 231 columns]"
            ]
          },
          "metadata": {
            "tags": []
          },
          "execution_count": 20
        }
      ]
    },
    {
      "cell_type": "markdown",
      "metadata": {
        "id": "E2HuxR-UcDOw"
      },
      "source": [
        "# 5. Calculate Manual Similarity"
      ]
    },
    {
      "cell_type": "markdown",
      "metadata": {
        "id": "G7Fi6dMBTL1g"
      },
      "source": [
        "Calculating similarity between a pair of chocolates using *Root mean square error* (RMSE) of all features, as all features are nmumeric."
      ]
    },
    {
      "cell_type": "code",
      "metadata": {
        "cellView": "both",
        "id": "zBGUouTEcAz3"
      },
      "source": [
        "def getSimilarity(obj1, obj2):\n",
        "  len1 = len(obj1.index)\n",
        "  len2 = len(obj2.index)\n",
        "  if not (len1 == len2):\n",
        "    print(\"Error: Compared objects must have same number of features.\")\n",
        "    sys.exit()\n",
        "    return 0\n",
        "  else:\n",
        "    similarity = obj1 - obj2\n",
        "    similarity = np.sum((similarity**2.0) / 10.0)\n",
        "    similarity = 1 - math.sqrt(similarity)\n",
        "    return similarity"
      ],
      "execution_count": 22,
      "outputs": []
    },
    {
      "cell_type": "code",
      "metadata": {
        "id": "Tylgxe-FM6NP",
        "colab": {
          "base_uri": "https://localhost:8080/"
        },
        "outputId": "4c8bdb4c-ec48-4c62-ccd5-8117c09bed4a"
      },
      "source": [
        "choc1 = 0  #@param\n",
        "chocsToCompare = [1, 4]  #@param\n",
        "\n",
        "print(\"Similarity between chocolates \" + str(choc1) + \" and ...\")\n",
        "for ii in range(chocsToCompare[0], chocsToCompare[1] + 1):\n",
        "  print(str(ii) + \": \" + str(getSimilarity(choc_data.loc[choc1], choc_data.loc[ii])))\n",
        "print(\"\\n\\nFeature data for chocolate \" + str(choc1))\n",
        "print(choc_data_backup.loc[choc1:choc1, :])\n",
        "print(\"\\n\\nFeature data for compared chocolates \" + str(chocsToCompare))\n",
        "print(choc_data_backup.loc[chocsToCompare[0]:chocsToCompare[1], :])"
      ],
      "execution_count": 24,
      "outputs": [
        {
          "output_type": "stream",
          "text": [
            "Similarity between chocolates 0 and ...\n",
            "1: 0.8346304947537486\n",
            "2: 0.5038914842612459\n",
            "3: 0.4555557720237311\n",
            "4: 0.14327793910573605\n",
            "\n",
            "\n",
            "Feature data for chocolate 0\n",
            "      maker specific_origin  reference_number  ...  rating  bean_type broad_origin\n",
            "0  A. Morin           Kpime              1676  ...    2.75      Blend         Togo\n",
            "\n",
            "[1 rows x 9 columns]\n",
            "\n",
            "\n",
            "Feature data for compared chocolates [1, 4]\n",
            "      maker specific_origin  reference_number  ...  rating  bean_type broad_origin\n",
            "1  A. Morin          Atsane              1676  ...    3.00      Blend         Togo\n",
            "2  A. Morin           Akata              1680  ...    3.50      Blend         Togo\n",
            "3  A. Morin          Quilla              1704  ...    3.50      Blend         Peru\n",
            "4  A. Morin         Pablino              1319  ...    4.00      Blend         Peru\n",
            "\n",
            "[4 rows x 9 columns]\n"
          ],
          "name": "stdout"
        }
      ]
    },
    {
      "cell_type": "markdown",
      "metadata": {
        "id": "ImOGD5GJ8Ia7"
      },
      "source": [
        "# 6. Cluster Chocolate Dataset\n",
        "\n",
        "Setup the *k-means clustering* functions.\n",
        "\n",
        "`||a-b||^2 = |a|^2 + |b|^2 - 2*|a|*|b|`\n"
      ]
    },
    {
      "cell_type": "code",
      "metadata": {
        "id": "eExms-TP8Hn6"
      },
      "source": [
        "# Function to Calculate similarities for dataframe input\n",
        "def dfSimilarity(df, centroids):\n",
        "  numPoints = len(df.index)\n",
        "  numCentroids = len(centroids.index)\n",
        "  # Calculate the norm of points to keep similarity in range [0,1]\n",
        "  pointNorms = np.square(nla.norm(df, axis=1))\n",
        "  pointNorms = np.reshape(pointNorms, [numPoints, 1])\n",
        "  # Calculate the norm of centroids\n",
        "  centroidNorms = np.square(nla.norm(centroids, axis=1))\n",
        "  centroidNorms = np.reshape(centroidNorms, (1, numCentroids))\n",
        "  ## Calculate |a|^2 + |b|^2 - 2*|a|*|b|\n",
        "  similarities = pointNorms + centroidNorms - 2.0 * np.dot(df, np.transpose(centroids))\n",
        "  # Divide by the number of features (10) because the one-hot encoding means the \"Maker\" and \"Bean\" are\n",
        "  similarities = similarities / 10.0\n",
        "  # Clip negligible but negative values that go to NaN on the root\n",
        "  similarities = similarities.clip(min=0.0)\n",
        "  # Square root since it's ||a-b||^2\n",
        "  similarities = np.sqrt(similarities)\n",
        "  return similarities\n",
        "\n",
        "# Pick 'k' examples randomly to serve as initial centroids\n",
        "def initCentroids(df, k, feature_cols):\n",
        "  limit = len(df.index)\n",
        "  centroids_key = np.random.randint(0, limit - 1, k)\n",
        "  centroids = df.loc[centroids_key, feature_cols].copy(deep=True)\n",
        "  # The indexes get copied over so reset them\n",
        "  centroids.reset_index(drop=True, inplace=True)\n",
        "  return centroids\n",
        "\n",
        "# Calculate similarities between all points and centroids\n",
        "def pt2centroid(df, centroids, feature_cols):\n",
        "  numCentroids = len(centroids.index)\n",
        "  numExamples = len(df.index)\n",
        "  # Calculate similarities for dataframe input\n",
        "  dist = dfSimilarity(df.loc[:, feature_cols], centroids.loc[:, feature_cols])\n",
        "  # Assign points to the closest centroid + save that distance\n",
        "  df.loc[:, 'centroid'] = np.argmin(dist, axis=1)  # closest centroid\n",
        "  df.loc[:, 'pt2centroid'] = np.min(dist, axis=1)  # minimum distance\n",
        "  return df\n",
        "\n",
        "# For every centroid, recompute it as an average of the points assigned to it\n",
        "def recomputeCentroids(df, centroids, feature_cols):\n",
        "  numCentroids = len(centroids.index)\n",
        "  for cen in range(numCentroids):\n",
        "    dfSubset = df.loc[df['centroid'] == cen, feature_cols]  # all points for centroid\n",
        "    if not (dfSubset.empty):  # if there are points assigned to the centroid\n",
        "      clusterAvg = np.sum(dfSubset) / len(dfSubset.index)\n",
        "      centroids.loc[cen] = clusterAvg\n",
        "  return centroids\n",
        "\n",
        "def kmeans(df, k, feature_cols, verbose):\n",
        "  flagConvergence = False\n",
        "  maxIter = 100\n",
        "  iter = 0  # ensure kmeans doesn't run for ever\n",
        "  centroids = initCentroids(df, k, feature_cols)\n",
        "  while not (flagConvergence):\n",
        "    iter += 1\n",
        "    # Save old mapping of points to centroids\n",
        "    oldMapping = df['centroid'].copy(deep=True)\n",
        "    # Perform k-means\n",
        "    df = pt2centroid(df, centroids, feature_cols)\n",
        "    centroids = recomputeCentroids(df, centroids, feature_cols)\n",
        "    # Check convergence by comparing [oldMapping, newMapping]\n",
        "    newMapping = df['centroid']\n",
        "    flagConvergence = all(oldMapping == newMapping)\n",
        "    if verbose == 1:\n",
        "      print('Total distance:' + str(np.sum(df['pt2centroid'])))\n",
        "    if (iter > maxIter):\n",
        "      print('k-means did not converge! Reached maximum iteration limit of '+ str(maxIter) + '.')\n",
        "      sys.exit()\n",
        "      return\n",
        "  print('k-means converged for ' + str(k) + ' clusters' + ' after ' + str(iter) + ' iterations!')\n",
        "  return [df, centroids]"
      ],
      "execution_count": 26,
      "outputs": []
    },
    {
      "cell_type": "markdown",
      "metadata": {
        "id": "-KnRLWvw1rJ9"
      },
      "source": [
        "Cluster the chocolate dataset, where `k` is the number of clusters.\n",
        "\n",
        "On every iteration of k-means, the output shows how the sum of distances from all examples to their centroids reduces, such that k-means always converges. The following table shows the data for the first few chocolates. On the extreme right of the table, check the assigned centroid for each example in the `centroid` column and the distance from the example to its centroid in the `pt2centroid` column."
      ]
    },
    {
      "cell_type": "code",
      "metadata": {
        "id": "AKDwhN9J1PhU",
        "colab": {
          "base_uri": "https://localhost:8080/",
          "height": 627
        },
        "outputId": "455a94e7-aaa4-481e-d4a0-a856a0bb8366"
      },
      "source": [
        "k = 30  #@param\n",
        "\n",
        "feature_cols = choc_data.columns.values  # save original columns\n",
        "# initialize every point to an impossible value, the k+1 cluster\n",
        "choc_data['centroid'] = k\n",
        "# init the point to centroid distance to an impossible value \"2\" (>1)\n",
        "choc_data['pt2centroid'] = 2\n",
        "[choc_data, centroids] = kmeans(choc_data, k, feature_cols, 1)\n",
        "print(\"Data for the first few chocolates, with 'centroid' and 'pt2centroid' on\"\n",
        "      ' the extreme right:')\n",
        "choc_data.head()"
      ],
      "execution_count": 27,
      "outputs": [
        {
          "output_type": "stream",
          "text": [
            "Total distance:409.43350756606424\n",
            "Total distance:333.01770506906865\n",
            "Total distance:328.0284330559124\n",
            "Total distance:325.84864068628247\n",
            "Total distance:324.4805752278727\n",
            "Total distance:323.52712462192534\n",
            "Total distance:323.0681151809574\n",
            "Total distance:322.54748009480636\n",
            "Total distance:322.21077556255045\n",
            "Total distance:322.10734510472753\n",
            "Total distance:322.033770305726\n",
            "Total distance:321.9372298267736\n",
            "Total distance:321.87144758684144\n",
            "Total distance:321.8199480716988\n",
            "Total distance:321.7140065356902\n",
            "Total distance:321.660463392298\n",
            "Total distance:321.65358893427003\n",
            "Total distance:321.6459404688141\n",
            "k-means converged for 30 clusters after 18 iterations!\n",
            "Data for the first few chocolates, with 'centroid' and 'pt2centroid' on the extreme right:\n"
          ],
          "name": "stdout"
        },
        {
          "output_type": "execute_result",
          "data": {
            "text/html": [
              "<div>\n",
              "<style scoped>\n",
              "    .dataframe tbody tr th:only-of-type {\n",
              "        vertical-align: middle;\n",
              "    }\n",
              "\n",
              "    .dataframe tbody tr th {\n",
              "        vertical-align: top;\n",
              "    }\n",
              "\n",
              "    .dataframe thead th {\n",
              "        text-align: right;\n",
              "    }\n",
              "</style>\n",
              "<table border=\"1\" class=\"dataframe\">\n",
              "  <thead>\n",
              "    <tr style=\"text-align: right;\">\n",
              "      <th></th>\n",
              "      <th>rating_norm</th>\n",
              "      <th>cocoa_percent_norm</th>\n",
              "      <th>maker_lat</th>\n",
              "      <th>maker_long</th>\n",
              "      <th>origin_lat</th>\n",
              "      <th>origin_long</th>\n",
              "      <th>maker_A. Morin</th>\n",
              "      <th>maker_AMMA</th>\n",
              "      <th>maker_Adi</th>\n",
              "      <th>maker_Aequare (Gianduja)</th>\n",
              "      <th>maker_Ah Cacao</th>\n",
              "      <th>maker_Akesson's (Pralus)</th>\n",
              "      <th>maker_Alain Ducasse</th>\n",
              "      <th>maker_Alexandre</th>\n",
              "      <th>maker_Amatller (Simon Coll)</th>\n",
              "      <th>maker_Amazona</th>\n",
              "      <th>maker_Ambrosia</th>\n",
              "      <th>maker_Amedei</th>\n",
              "      <th>maker_Ara</th>\n",
              "      <th>maker_Bahen &amp; Co.</th>\n",
              "      <th>maker_Bakau</th>\n",
              "      <th>maker_Belcolade</th>\n",
              "      <th>maker_Belyzium</th>\n",
              "      <th>maker_Benoit Nihant</th>\n",
              "      <th>maker_Beschle (Felchlin)</th>\n",
              "      <th>maker_Bonnat</th>\n",
              "      <th>maker_Bouga Cacao (Tulicorp)</th>\n",
              "      <th>maker_Bright</th>\n",
              "      <th>maker_Britarev</th>\n",
              "      <th>maker_C-Amaro</th>\n",
              "      <th>maker_Cacao Arabuco</th>\n",
              "      <th>maker_Cacao Barry</th>\n",
              "      <th>maker_Cacao Hunters</th>\n",
              "      <th>maker_Cacao Sampaka</th>\n",
              "      <th>maker_Cacao Store</th>\n",
              "      <th>maker_Cacao de Origen</th>\n",
              "      <th>maker_Cacao de Origin</th>\n",
              "      <th>maker_Cacaosuyo (Theobroma Inversiones)</th>\n",
              "      <th>maker_Cacaoyere (Ecuatoriana)</th>\n",
              "      <th>maker_Callebaut</th>\n",
              "      <th>...</th>\n",
              "      <th>maker_Urzi</th>\n",
              "      <th>maker_Valrhona</th>\n",
              "      <th>maker_Vao Vao (Chocolaterie Robert)</th>\n",
              "      <th>maker_Vietcacao (A. Morin)</th>\n",
              "      <th>maker_Wellington Chocolate Factory</th>\n",
              "      <th>maker_Whittakers</th>\n",
              "      <th>maker_Wilkie's Organic</th>\n",
              "      <th>maker_Xocolat</th>\n",
              "      <th>maker_Zart Pralinen</th>\n",
              "      <th>maker_Zokoko</th>\n",
              "      <th>maker_Zotter</th>\n",
              "      <th>maker_organicfair</th>\n",
              "      <th>bean_Blend</th>\n",
              "      <th>bean_Blend-Forastero,Criollo</th>\n",
              "      <th>bean_CCN51</th>\n",
              "      <th>bean_Criollo</th>\n",
              "      <th>bean_Criollo (Amarru)</th>\n",
              "      <th>bean_Criollo (Ocumare 61)</th>\n",
              "      <th>bean_Criollo (Ocumare 67)</th>\n",
              "      <th>bean_Criollo (Ocumare 77)</th>\n",
              "      <th>bean_Criollo (Porcelana)</th>\n",
              "      <th>bean_Criollo (Wild)</th>\n",
              "      <th>bean_Criollo, Forastero</th>\n",
              "      <th>bean_Criollo, Trinitario</th>\n",
              "      <th>bean_Forastero</th>\n",
              "      <th>bean_Forastero (Amelonado)</th>\n",
              "      <th>bean_Forastero (Arriba)</th>\n",
              "      <th>bean_Forastero (Arriba) ASS</th>\n",
              "      <th>bean_Forastero (Arriba) ASSS</th>\n",
              "      <th>bean_Forastero (Catongo)</th>\n",
              "      <th>bean_Forastero (Nacional)</th>\n",
              "      <th>bean_Forastero (Parazinho)</th>\n",
              "      <th>bean_Nacional</th>\n",
              "      <th>bean_Nacional (Arriba)</th>\n",
              "      <th>bean_Trinitario</th>\n",
              "      <th>bean_Trinitario (85% Criollo)</th>\n",
              "      <th>bean_Trinitario (Scavina)</th>\n",
              "      <th>bean_Trinitario, TCGA</th>\n",
              "      <th>centroid</th>\n",
              "      <th>pt2centroid</th>\n",
              "    </tr>\n",
              "  </thead>\n",
              "  <tbody>\n",
              "    <tr>\n",
              "      <th>0</th>\n",
              "      <td>-0.91</td>\n",
              "      <td>-0.27</td>\n",
              "      <td>0.60</td>\n",
              "      <td>0.40</td>\n",
              "      <td>0.62</td>\n",
              "      <td>0.77</td>\n",
              "      <td>1.00</td>\n",
              "      <td>0.00</td>\n",
              "      <td>0.00</td>\n",
              "      <td>0.00</td>\n",
              "      <td>0.00</td>\n",
              "      <td>0.00</td>\n",
              "      <td>0.00</td>\n",
              "      <td>0.00</td>\n",
              "      <td>0.00</td>\n",
              "      <td>0.00</td>\n",
              "      <td>0.00</td>\n",
              "      <td>0.00</td>\n",
              "      <td>0.00</td>\n",
              "      <td>0.00</td>\n",
              "      <td>0.00</td>\n",
              "      <td>0.00</td>\n",
              "      <td>0.00</td>\n",
              "      <td>0.00</td>\n",
              "      <td>0.00</td>\n",
              "      <td>0.00</td>\n",
              "      <td>0.00</td>\n",
              "      <td>0.00</td>\n",
              "      <td>0.00</td>\n",
              "      <td>0.00</td>\n",
              "      <td>0.00</td>\n",
              "      <td>0.00</td>\n",
              "      <td>0.00</td>\n",
              "      <td>0.00</td>\n",
              "      <td>0.00</td>\n",
              "      <td>0.00</td>\n",
              "      <td>0.00</td>\n",
              "      <td>0.00</td>\n",
              "      <td>0.00</td>\n",
              "      <td>0.00</td>\n",
              "      <td>...</td>\n",
              "      <td>0.00</td>\n",
              "      <td>0.00</td>\n",
              "      <td>0.00</td>\n",
              "      <td>0.00</td>\n",
              "      <td>0.00</td>\n",
              "      <td>0.00</td>\n",
              "      <td>0.00</td>\n",
              "      <td>0.00</td>\n",
              "      <td>0.00</td>\n",
              "      <td>0.00</td>\n",
              "      <td>0.00</td>\n",
              "      <td>0.00</td>\n",
              "      <td>1.00</td>\n",
              "      <td>0.00</td>\n",
              "      <td>0.00</td>\n",
              "      <td>0.00</td>\n",
              "      <td>0.00</td>\n",
              "      <td>0.00</td>\n",
              "      <td>0.00</td>\n",
              "      <td>0.00</td>\n",
              "      <td>0.00</td>\n",
              "      <td>0.00</td>\n",
              "      <td>0.00</td>\n",
              "      <td>0.00</td>\n",
              "      <td>0.00</td>\n",
              "      <td>0.00</td>\n",
              "      <td>0.00</td>\n",
              "      <td>0.00</td>\n",
              "      <td>0.00</td>\n",
              "      <td>0.00</td>\n",
              "      <td>0.00</td>\n",
              "      <td>0.00</td>\n",
              "      <td>0.00</td>\n",
              "      <td>0.00</td>\n",
              "      <td>0.00</td>\n",
              "      <td>0.00</td>\n",
              "      <td>0.00</td>\n",
              "      <td>0.00</td>\n",
              "      <td>26</td>\n",
              "      <td>0.35</td>\n",
              "    </tr>\n",
              "    <tr>\n",
              "      <th>1</th>\n",
              "      <td>-0.39</td>\n",
              "      <td>-0.27</td>\n",
              "      <td>0.60</td>\n",
              "      <td>0.40</td>\n",
              "      <td>0.62</td>\n",
              "      <td>0.77</td>\n",
              "      <td>1.00</td>\n",
              "      <td>0.00</td>\n",
              "      <td>0.00</td>\n",
              "      <td>0.00</td>\n",
              "      <td>0.00</td>\n",
              "      <td>0.00</td>\n",
              "      <td>0.00</td>\n",
              "      <td>0.00</td>\n",
              "      <td>0.00</td>\n",
              "      <td>0.00</td>\n",
              "      <td>0.00</td>\n",
              "      <td>0.00</td>\n",
              "      <td>0.00</td>\n",
              "      <td>0.00</td>\n",
              "      <td>0.00</td>\n",
              "      <td>0.00</td>\n",
              "      <td>0.00</td>\n",
              "      <td>0.00</td>\n",
              "      <td>0.00</td>\n",
              "      <td>0.00</td>\n",
              "      <td>0.00</td>\n",
              "      <td>0.00</td>\n",
              "      <td>0.00</td>\n",
              "      <td>0.00</td>\n",
              "      <td>0.00</td>\n",
              "      <td>0.00</td>\n",
              "      <td>0.00</td>\n",
              "      <td>0.00</td>\n",
              "      <td>0.00</td>\n",
              "      <td>0.00</td>\n",
              "      <td>0.00</td>\n",
              "      <td>0.00</td>\n",
              "      <td>0.00</td>\n",
              "      <td>0.00</td>\n",
              "      <td>...</td>\n",
              "      <td>0.00</td>\n",
              "      <td>0.00</td>\n",
              "      <td>0.00</td>\n",
              "      <td>0.00</td>\n",
              "      <td>0.00</td>\n",
              "      <td>0.00</td>\n",
              "      <td>0.00</td>\n",
              "      <td>0.00</td>\n",
              "      <td>0.00</td>\n",
              "      <td>0.00</td>\n",
              "      <td>0.00</td>\n",
              "      <td>0.00</td>\n",
              "      <td>1.00</td>\n",
              "      <td>0.00</td>\n",
              "      <td>0.00</td>\n",
              "      <td>0.00</td>\n",
              "      <td>0.00</td>\n",
              "      <td>0.00</td>\n",
              "      <td>0.00</td>\n",
              "      <td>0.00</td>\n",
              "      <td>0.00</td>\n",
              "      <td>0.00</td>\n",
              "      <td>0.00</td>\n",
              "      <td>0.00</td>\n",
              "      <td>0.00</td>\n",
              "      <td>0.00</td>\n",
              "      <td>0.00</td>\n",
              "      <td>0.00</td>\n",
              "      <td>0.00</td>\n",
              "      <td>0.00</td>\n",
              "      <td>0.00</td>\n",
              "      <td>0.00</td>\n",
              "      <td>0.00</td>\n",
              "      <td>0.00</td>\n",
              "      <td>0.00</td>\n",
              "      <td>0.00</td>\n",
              "      <td>0.00</td>\n",
              "      <td>0.00</td>\n",
              "      <td>5</td>\n",
              "      <td>0.34</td>\n",
              "    </tr>\n",
              "    <tr>\n",
              "      <th>2</th>\n",
              "      <td>0.66</td>\n",
              "      <td>-0.27</td>\n",
              "      <td>0.60</td>\n",
              "      <td>0.40</td>\n",
              "      <td>0.62</td>\n",
              "      <td>0.77</td>\n",
              "      <td>1.00</td>\n",
              "      <td>0.00</td>\n",
              "      <td>0.00</td>\n",
              "      <td>0.00</td>\n",
              "      <td>0.00</td>\n",
              "      <td>0.00</td>\n",
              "      <td>0.00</td>\n",
              "      <td>0.00</td>\n",
              "      <td>0.00</td>\n",
              "      <td>0.00</td>\n",
              "      <td>0.00</td>\n",
              "      <td>0.00</td>\n",
              "      <td>0.00</td>\n",
              "      <td>0.00</td>\n",
              "      <td>0.00</td>\n",
              "      <td>0.00</td>\n",
              "      <td>0.00</td>\n",
              "      <td>0.00</td>\n",
              "      <td>0.00</td>\n",
              "      <td>0.00</td>\n",
              "      <td>0.00</td>\n",
              "      <td>0.00</td>\n",
              "      <td>0.00</td>\n",
              "      <td>0.00</td>\n",
              "      <td>0.00</td>\n",
              "      <td>0.00</td>\n",
              "      <td>0.00</td>\n",
              "      <td>0.00</td>\n",
              "      <td>0.00</td>\n",
              "      <td>0.00</td>\n",
              "      <td>0.00</td>\n",
              "      <td>0.00</td>\n",
              "      <td>0.00</td>\n",
              "      <td>0.00</td>\n",
              "      <td>...</td>\n",
              "      <td>0.00</td>\n",
              "      <td>0.00</td>\n",
              "      <td>0.00</td>\n",
              "      <td>0.00</td>\n",
              "      <td>0.00</td>\n",
              "      <td>0.00</td>\n",
              "      <td>0.00</td>\n",
              "      <td>0.00</td>\n",
              "      <td>0.00</td>\n",
              "      <td>0.00</td>\n",
              "      <td>0.00</td>\n",
              "      <td>0.00</td>\n",
              "      <td>1.00</td>\n",
              "      <td>0.00</td>\n",
              "      <td>0.00</td>\n",
              "      <td>0.00</td>\n",
              "      <td>0.00</td>\n",
              "      <td>0.00</td>\n",
              "      <td>0.00</td>\n",
              "      <td>0.00</td>\n",
              "      <td>0.00</td>\n",
              "      <td>0.00</td>\n",
              "      <td>0.00</td>\n",
              "      <td>0.00</td>\n",
              "      <td>0.00</td>\n",
              "      <td>0.00</td>\n",
              "      <td>0.00</td>\n",
              "      <td>0.00</td>\n",
              "      <td>0.00</td>\n",
              "      <td>0.00</td>\n",
              "      <td>0.00</td>\n",
              "      <td>0.00</td>\n",
              "      <td>0.00</td>\n",
              "      <td>0.00</td>\n",
              "      <td>0.00</td>\n",
              "      <td>0.00</td>\n",
              "      <td>0.00</td>\n",
              "      <td>0.00</td>\n",
              "      <td>17</td>\n",
              "      <td>0.35</td>\n",
              "    </tr>\n",
              "    <tr>\n",
              "      <th>3</th>\n",
              "      <td>0.66</td>\n",
              "      <td>-0.27</td>\n",
              "      <td>0.60</td>\n",
              "      <td>0.40</td>\n",
              "      <td>0.15</td>\n",
              "      <td>0.23</td>\n",
              "      <td>1.00</td>\n",
              "      <td>0.00</td>\n",
              "      <td>0.00</td>\n",
              "      <td>0.00</td>\n",
              "      <td>0.00</td>\n",
              "      <td>0.00</td>\n",
              "      <td>0.00</td>\n",
              "      <td>0.00</td>\n",
              "      <td>0.00</td>\n",
              "      <td>0.00</td>\n",
              "      <td>0.00</td>\n",
              "      <td>0.00</td>\n",
              "      <td>0.00</td>\n",
              "      <td>0.00</td>\n",
              "      <td>0.00</td>\n",
              "      <td>0.00</td>\n",
              "      <td>0.00</td>\n",
              "      <td>0.00</td>\n",
              "      <td>0.00</td>\n",
              "      <td>0.00</td>\n",
              "      <td>0.00</td>\n",
              "      <td>0.00</td>\n",
              "      <td>0.00</td>\n",
              "      <td>0.00</td>\n",
              "      <td>0.00</td>\n",
              "      <td>0.00</td>\n",
              "      <td>0.00</td>\n",
              "      <td>0.00</td>\n",
              "      <td>0.00</td>\n",
              "      <td>0.00</td>\n",
              "      <td>0.00</td>\n",
              "      <td>0.00</td>\n",
              "      <td>0.00</td>\n",
              "      <td>0.00</td>\n",
              "      <td>...</td>\n",
              "      <td>0.00</td>\n",
              "      <td>0.00</td>\n",
              "      <td>0.00</td>\n",
              "      <td>0.00</td>\n",
              "      <td>0.00</td>\n",
              "      <td>0.00</td>\n",
              "      <td>0.00</td>\n",
              "      <td>0.00</td>\n",
              "      <td>0.00</td>\n",
              "      <td>0.00</td>\n",
              "      <td>0.00</td>\n",
              "      <td>0.00</td>\n",
              "      <td>1.00</td>\n",
              "      <td>0.00</td>\n",
              "      <td>0.00</td>\n",
              "      <td>0.00</td>\n",
              "      <td>0.00</td>\n",
              "      <td>0.00</td>\n",
              "      <td>0.00</td>\n",
              "      <td>0.00</td>\n",
              "      <td>0.00</td>\n",
              "      <td>0.00</td>\n",
              "      <td>0.00</td>\n",
              "      <td>0.00</td>\n",
              "      <td>0.00</td>\n",
              "      <td>0.00</td>\n",
              "      <td>0.00</td>\n",
              "      <td>0.00</td>\n",
              "      <td>0.00</td>\n",
              "      <td>0.00</td>\n",
              "      <td>0.00</td>\n",
              "      <td>0.00</td>\n",
              "      <td>0.00</td>\n",
              "      <td>0.00</td>\n",
              "      <td>0.00</td>\n",
              "      <td>0.00</td>\n",
              "      <td>0.00</td>\n",
              "      <td>0.00</td>\n",
              "      <td>17</td>\n",
              "      <td>0.34</td>\n",
              "    </tr>\n",
              "    <tr>\n",
              "      <th>4</th>\n",
              "      <td>1.70</td>\n",
              "      <td>-0.27</td>\n",
              "      <td>0.60</td>\n",
              "      <td>0.40</td>\n",
              "      <td>0.15</td>\n",
              "      <td>0.23</td>\n",
              "      <td>1.00</td>\n",
              "      <td>0.00</td>\n",
              "      <td>0.00</td>\n",
              "      <td>0.00</td>\n",
              "      <td>0.00</td>\n",
              "      <td>0.00</td>\n",
              "      <td>0.00</td>\n",
              "      <td>0.00</td>\n",
              "      <td>0.00</td>\n",
              "      <td>0.00</td>\n",
              "      <td>0.00</td>\n",
              "      <td>0.00</td>\n",
              "      <td>0.00</td>\n",
              "      <td>0.00</td>\n",
              "      <td>0.00</td>\n",
              "      <td>0.00</td>\n",
              "      <td>0.00</td>\n",
              "      <td>0.00</td>\n",
              "      <td>0.00</td>\n",
              "      <td>0.00</td>\n",
              "      <td>0.00</td>\n",
              "      <td>0.00</td>\n",
              "      <td>0.00</td>\n",
              "      <td>0.00</td>\n",
              "      <td>0.00</td>\n",
              "      <td>0.00</td>\n",
              "      <td>0.00</td>\n",
              "      <td>0.00</td>\n",
              "      <td>0.00</td>\n",
              "      <td>0.00</td>\n",
              "      <td>0.00</td>\n",
              "      <td>0.00</td>\n",
              "      <td>0.00</td>\n",
              "      <td>0.00</td>\n",
              "      <td>...</td>\n",
              "      <td>0.00</td>\n",
              "      <td>0.00</td>\n",
              "      <td>0.00</td>\n",
              "      <td>0.00</td>\n",
              "      <td>0.00</td>\n",
              "      <td>0.00</td>\n",
              "      <td>0.00</td>\n",
              "      <td>0.00</td>\n",
              "      <td>0.00</td>\n",
              "      <td>0.00</td>\n",
              "      <td>0.00</td>\n",
              "      <td>0.00</td>\n",
              "      <td>1.00</td>\n",
              "      <td>0.00</td>\n",
              "      <td>0.00</td>\n",
              "      <td>0.00</td>\n",
              "      <td>0.00</td>\n",
              "      <td>0.00</td>\n",
              "      <td>0.00</td>\n",
              "      <td>0.00</td>\n",
              "      <td>0.00</td>\n",
              "      <td>0.00</td>\n",
              "      <td>0.00</td>\n",
              "      <td>0.00</td>\n",
              "      <td>0.00</td>\n",
              "      <td>0.00</td>\n",
              "      <td>0.00</td>\n",
              "      <td>0.00</td>\n",
              "      <td>0.00</td>\n",
              "      <td>0.00</td>\n",
              "      <td>0.00</td>\n",
              "      <td>0.00</td>\n",
              "      <td>0.00</td>\n",
              "      <td>0.00</td>\n",
              "      <td>0.00</td>\n",
              "      <td>0.00</td>\n",
              "      <td>0.00</td>\n",
              "      <td>0.00</td>\n",
              "      <td>25</td>\n",
              "      <td>0.38</td>\n",
              "    </tr>\n",
              "  </tbody>\n",
              "</table>\n",
              "<p>5 rows × 233 columns</p>\n",
              "</div>"
            ],
            "text/plain": [
              "   rating_norm  cocoa_percent_norm  ...  centroid  pt2centroid\n",
              "0        -0.91               -0.27  ...        26         0.35\n",
              "1        -0.39               -0.27  ...         5         0.34\n",
              "2         0.66               -0.27  ...        17         0.35\n",
              "3         0.66               -0.27  ...        17         0.34\n",
              "4         1.70               -0.27  ...        25         0.38\n",
              "\n",
              "[5 rows x 233 columns]"
            ]
          },
          "metadata": {
            "tags": []
          },
          "execution_count": 27
        }
      ]
    },
    {
      "cell_type": "markdown",
      "metadata": {
        "id": "bfFShL6wqa-9"
      },
      "source": [
        "## 7. Inspect Clustering Result"
      ]
    },
    {
      "cell_type": "markdown",
      "metadata": {
        "id": "13TnsPz23xOU"
      },
      "source": [
        "Inspect the chocolates in different clusters by changing the parameter `clusterNumber`\n",
        "in the next cell and running the cell. Consider these questions as you inspect the clusters:\n",
        "\n",
        "*   Are the clusters meaningful?\n",
        "*   Do the clusters weight certain features more than others? Why?\n",
        "*   Does changing the number of clusters make the clusters more or less\n",
        "    meaningful?\n",
        "\n",
        "After considering these questions, expand the next section for a discussion of clustering results."
      ]
    },
    {
      "cell_type": "code",
      "metadata": {
        "id": "NHWgGmpyux39",
        "colab": {
          "base_uri": "https://localhost:8080/",
          "height": 452
        },
        "outputId": "a87b2828-d7ca-452d-fae2-27f870304e1c"
      },
      "source": [
        "clusterNumber = 7  #@param\n",
        "choc_data_backup.loc[choc_data['centroid'] == clusterNumber, :]"
      ],
      "execution_count": 28,
      "outputs": [
        {
          "output_type": "execute_result",
          "data": {
            "text/html": [
              "<div>\n",
              "<style scoped>\n",
              "    .dataframe tbody tr th:only-of-type {\n",
              "        vertical-align: middle;\n",
              "    }\n",
              "\n",
              "    .dataframe tbody tr th {\n",
              "        vertical-align: top;\n",
              "    }\n",
              "\n",
              "    .dataframe thead th {\n",
              "        text-align: right;\n",
              "    }\n",
              "</style>\n",
              "<table border=\"1\" class=\"dataframe\">\n",
              "  <thead>\n",
              "    <tr style=\"text-align: right;\">\n",
              "      <th></th>\n",
              "      <th>maker</th>\n",
              "      <th>specific_origin</th>\n",
              "      <th>reference_number</th>\n",
              "      <th>review_date</th>\n",
              "      <th>cocoa_percent</th>\n",
              "      <th>maker_location</th>\n",
              "      <th>rating</th>\n",
              "      <th>bean_type</th>\n",
              "      <th>broad_origin</th>\n",
              "    </tr>\n",
              "  </thead>\n",
              "  <tbody>\n",
              "    <tr>\n",
              "      <th>86</th>\n",
              "      <td>Bonnat</td>\n",
              "      <td>Maracaibo,El Rosario</td>\n",
              "      <td>48</td>\n",
              "      <td>2006</td>\n",
              "      <td>75.00</td>\n",
              "      <td>France</td>\n",
              "      <td>4.00</td>\n",
              "      <td>Criollo</td>\n",
              "      <td>Venezuela</td>\n",
              "    </tr>\n",
              "    <tr>\n",
              "      <th>97</th>\n",
              "      <td>Valrhona</td>\n",
              "      <td>Porcelana,Pedegral</td>\n",
              "      <td>757</td>\n",
              "      <td>2011</td>\n",
              "      <td>64.00</td>\n",
              "      <td>France</td>\n",
              "      <td>4.00</td>\n",
              "      <td>Criollo</td>\n",
              "      <td>Venezuela</td>\n",
              "    </tr>\n",
              "    <tr>\n",
              "      <th>112</th>\n",
              "      <td>Idilio (Felchlin)</td>\n",
              "      <td>Porcelana,Zulia</td>\n",
              "      <td>733</td>\n",
              "      <td>2011</td>\n",
              "      <td>74.00</td>\n",
              "      <td>Switzerland</td>\n",
              "      <td>4.00</td>\n",
              "      <td>Criollo</td>\n",
              "      <td>Venezuela</td>\n",
              "    </tr>\n",
              "    <tr>\n",
              "      <th>115</th>\n",
              "      <td>Idilio (Felchlin)</td>\n",
              "      <td>Coopertiva Amazona w,nibs</td>\n",
              "      <td>737</td>\n",
              "      <td>2011</td>\n",
              "      <td>72.00</td>\n",
              "      <td>Switzerland</td>\n",
              "      <td>4.00</td>\n",
              "      <td>Criollo</td>\n",
              "      <td>Venezuela</td>\n",
              "    </tr>\n",
              "    <tr>\n",
              "      <th>128</th>\n",
              "      <td>Soma</td>\n",
              "      <td>Maracaibo,El Vigia</td>\n",
              "      <td>1077</td>\n",
              "      <td>2013</td>\n",
              "      <td>70.00</td>\n",
              "      <td>Canada</td>\n",
              "      <td>4.00</td>\n",
              "      <td>Criollo</td>\n",
              "      <td>Venezuela</td>\n",
              "    </tr>\n",
              "    <tr>\n",
              "      <th>153</th>\n",
              "      <td>Smooth Chocolator, The</td>\n",
              "      <td>Guasare,La Sierra de Perija,batch gua001</td>\n",
              "      <td>1740</td>\n",
              "      <td>2016</td>\n",
              "      <td>70.00</td>\n",
              "      <td>Australia</td>\n",
              "      <td>3.75</td>\n",
              "      <td>Criollo</td>\n",
              "      <td>Venezuela</td>\n",
              "    </tr>\n",
              "    <tr>\n",
              "      <th>159</th>\n",
              "      <td>Pierre Marcolini</td>\n",
              "      <td>Ocumare,Puerto Cabello,Venezuela</td>\n",
              "      <td>93</td>\n",
              "      <td>2006</td>\n",
              "      <td>72.00</td>\n",
              "      <td>Belgium</td>\n",
              "      <td>4.00</td>\n",
              "      <td>Criollo</td>\n",
              "      <td>Venezuela</td>\n",
              "    </tr>\n",
              "    <tr>\n",
              "      <th>223</th>\n",
              "      <td>Bonnat</td>\n",
              "      <td>Madagascar,100% criollo</td>\n",
              "      <td>629</td>\n",
              "      <td>2011</td>\n",
              "      <td>75.00</td>\n",
              "      <td>France</td>\n",
              "      <td>4.00</td>\n",
              "      <td>Criollo</td>\n",
              "      <td>Madagascar</td>\n",
              "    </tr>\n",
              "    <tr>\n",
              "      <th>420</th>\n",
              "      <td>Smooth Chocolator, The</td>\n",
              "      <td>Porcelana,Sorotaima,Machiques,batch pcl001</td>\n",
              "      <td>1740</td>\n",
              "      <td>2016</td>\n",
              "      <td>70.00</td>\n",
              "      <td>Australia</td>\n",
              "      <td>4.00</td>\n",
              "      <td>Criollo</td>\n",
              "      <td>Ecuador</td>\n",
              "    </tr>\n",
              "    <tr>\n",
              "      <th>561</th>\n",
              "      <td>Cacao Sampaka</td>\n",
              "      <td>Porcelana,Tabasco,La Joya</td>\n",
              "      <td>336</td>\n",
              "      <td>2009</td>\n",
              "      <td>70.00</td>\n",
              "      <td>Spain</td>\n",
              "      <td>4.00</td>\n",
              "      <td>Criollo</td>\n",
              "      <td>Mexico</td>\n",
              "    </tr>\n",
              "    <tr>\n",
              "      <th>562</th>\n",
              "      <td>Cacao Sampaka</td>\n",
              "      <td>Xoconusco,Chiapas</td>\n",
              "      <td>346</td>\n",
              "      <td>2009</td>\n",
              "      <td>70.00</td>\n",
              "      <td>Spain</td>\n",
              "      <td>4.00</td>\n",
              "      <td>Criollo</td>\n",
              "      <td>Mexico</td>\n",
              "    </tr>\n",
              "    <tr>\n",
              "      <th>569</th>\n",
              "      <td>Pierre Marcolini</td>\n",
              "      <td>Porcelana,Tabasco,Limited Ed</td>\n",
              "      <td>81</td>\n",
              "      <td>2006</td>\n",
              "      <td>72.00</td>\n",
              "      <td>Belgium</td>\n",
              "      <td>4.00</td>\n",
              "      <td>Criollo</td>\n",
              "      <td>Mexico</td>\n",
              "    </tr>\n",
              "    <tr>\n",
              "      <th>748</th>\n",
              "      <td>Danta</td>\n",
              "      <td>Las Acacias E</td>\n",
              "      <td>987</td>\n",
              "      <td>2012</td>\n",
              "      <td>70.00</td>\n",
              "      <td>Guatemala</td>\n",
              "      <td>4.00</td>\n",
              "      <td>Criollo</td>\n",
              "      <td>Guatemala</td>\n",
              "    </tr>\n",
              "  </tbody>\n",
              "</table>\n",
              "</div>"
            ],
            "text/plain": [
              "                      maker  ... broad_origin\n",
              "86                   Bonnat  ...    Venezuela\n",
              "97                 Valrhona  ...    Venezuela\n",
              "112       Idilio (Felchlin)  ...    Venezuela\n",
              "115       Idilio (Felchlin)  ...    Venezuela\n",
              "128                    Soma  ...    Venezuela\n",
              "153  Smooth Chocolator, The  ...    Venezuela\n",
              "159        Pierre Marcolini  ...    Venezuela\n",
              "223                  Bonnat  ...   Madagascar\n",
              "420  Smooth Chocolator, The  ...      Ecuador\n",
              "561           Cacao Sampaka  ...       Mexico\n",
              "562           Cacao Sampaka  ...       Mexico\n",
              "569        Pierre Marcolini  ...       Mexico\n",
              "748                   Danta  ...    Guatemala\n",
              "\n",
              "[13 rows x 9 columns]"
            ]
          },
          "metadata": {
            "tags": []
          },
          "execution_count": 28
        }
      ]
    },
    {
      "cell_type": "markdown",
      "metadata": {
        "id": "gxiPD8g_jShi"
      },
      "source": [
        "**Discussion**: The clustering result does unintentionally weight certain\n",
        "features more than others.\n",
        "\n",
        "That's because a given chocolate maker will have the same country of\n",
        "manufacture, which leads to mutual information between the features `maker`,\n",
        "`maker_lat`, and `maker_long`. Similarly, suppose each country tends to grow a\n",
        "particular type of bean, then there is mutual information between `origin_lat`,\n",
        "`origin_long`, and `bean_type`.\n",
        "\n",
        "As a result, features that share mutual information are effectively weighted\n",
        "more strongly than uncorrelated features. The solution is to use a supervised\n",
        "similarity measure because the DNN eliminates correlated information. See\n",
        "[k-means advantages and disadvantages](https://developers.google.com/machine-learning/clustering/algorithm/advantages-disadvantages).\n",
        "\n",
        "Now consider the one-hot encoding. Chocolates that have different makers will\n",
        "differ by 1 in two columns. Similarly, chocolates that are made of different\n",
        "bean types will differ by 1 in two features. Therefore, differences in makers\n",
        "and bean types will be weighted twice as much as other features. This uneven\n",
        "weighting skews the clustering result."
      ]
    },
    {
      "cell_type": "markdown",
      "metadata": {
        "id": "Z1eW0PlG57Zs"
      },
      "source": [
        "# 8. Quality Metrics for Clusters"
      ]
    },
    {
      "cell_type": "code",
      "metadata": {
        "id": "i9Y2H-nR56C3"
      },
      "source": [
        "# Set up functions { display-mode: \"form\" }\n",
        "def clusterCardinality(df):\n",
        "  k = np.max(df['centroid']) + 1\n",
        "  k = int(k)\n",
        "  print('Number of clusters:' + str(k))\n",
        "  clCard = np.zeros(k)\n",
        "  for kk in range(k):\n",
        "    clCard[kk] = np.sum(df['centroid'] == kk)\n",
        "  clCard = clCard.astype(int)\n",
        "  # print \"Cluster Cardinality:\"+str(clCard)\n",
        "  plt.figure()\n",
        "  plt.bar(range(k), clCard)\n",
        "  plt.title('Cluster Cardinality')\n",
        "  plt.xlabel('Cluster Number: ' + str(0) + ' to ' + str(k - 1))\n",
        "  plt.ylabel('Points in Cluster')\n",
        "  return clCard\n",
        "\n",
        "\n",
        "def clusterMagnitude(df):\n",
        "  k = np.max(df['centroid']) + 1\n",
        "  k = int(k)\n",
        "  cl = np.zeros(k)\n",
        "  clMag = np.zeros(k)\n",
        "  for kk in range(k):\n",
        "    idx = np.where(df['centroid'] == kk)\n",
        "    idx = idx[0]\n",
        "    clMag[kk] = np.sum(df.loc[idx, 'pt2centroid'])\n",
        "  # print \"Cluster Magnitude:\",clMag #precision set using np pref\n",
        "  plt.figure()\n",
        "  plt.bar(range(k), clMag)\n",
        "  plt.title('Cluster Magnitude')\n",
        "  plt.xlabel('Cluster Number: ' + str(0) + ' to ' + str(k - 1))\n",
        "  plt.ylabel('Total Point-to-Centroid Distance')\n",
        "  return clMag\n",
        "\n",
        "\n",
        "def plotCardVsMag(clCard, clMag):\n",
        "  plt.figure()\n",
        "  plt.scatter(clCard, clMag)\n",
        "  plt.xlim(xmin=0)\n",
        "  plt.ylim(ymin=0)\n",
        "  plt.title('Magnitude vs Cardinality')\n",
        "  plt.ylabel('Magnitude')\n",
        "  plt.xlabel('Cardinality')\n",
        "\n",
        "\n",
        "def clusterQualityMetrics(df):\n",
        "  clCard = clusterCardinality(df)\n",
        "  clMag = clusterMagnitude(df)\n",
        "  plotCardVsMag(clCard, clMag)"
      ],
      "execution_count": 36,
      "outputs": []
    },
    {
      "cell_type": "markdown",
      "metadata": {
        "id": "1nLYPlv4ejwD"
      },
      "source": [
        "Calculate the following metrics by running the next cell:\n",
        "\n",
        "*   cardinality of your clusters\n",
        "*   magnitude of your clusters\n",
        "*   cardinality vs Magnitude\n",
        "\n",
        "From the plots, find clusters that are outliers and clusters that are average.\n",
        "Compare the examples in outlier clusters versus those in average clusters by\n",
        "changing `clusterNumber` in the previous section."
      ]
    },
    {
      "cell_type": "code",
      "metadata": {
        "cellView": "both",
        "id": "3llKFtEpeiZ_",
        "colab": {
          "base_uri": "https://localhost:8080/",
          "height": 868
        },
        "outputId": "d8f4a757-a847-4540-c83a-ec10550a5d2e"
      },
      "source": [
        "clusterQualityMetrics(choc_data)"
      ],
      "execution_count": 37,
      "outputs": [
        {
          "output_type": "stream",
          "text": [
            "Number of clusters:30\n"
          ],
          "name": "stdout"
        },
        {
          "output_type": "display_data",
          "data": {
            "image/png": "[encoded data removed]",
            "text/plain": [
              "<Figure size 432x288 with 1 Axes>"
            ]
          },
          "metadata": {
            "tags": [],
            "needs_background": "light"
          }
        },
        {
          "output_type": "display_data",
          "data": {
            "image/png": "[encoded data removed]",
            "text/plain": [
              "<Figure size 432x288 with 1 Axes>"
            ]
          },
          "metadata": {
            "tags": [],
            "needs_background": "light"
          }
        },
        {
          "output_type": "display_data",
          "data": {
            "image/png": "[encoded data removed]",
            "text/plain": [
              "<Figure size 432x288 with 1 Axes>"
            ]
          },
          "metadata": {
            "tags": [],
            "needs_background": "light"
          }
        }
      ]
    },
    {
      "cell_type": "markdown",
      "metadata": {
        "id": "SBa0k9KK2PAt"
      },
      "source": [
        "## Find Optimum Number of Clusters\n",
        "\n",
        "Plot follow the form shown on \"*Interpret Results*\"? What's the\n",
        "optimum number of clusters? Experiment with the parameters below if necessary. After considering the questions, expand the next section for a discussion."
      ]
    },
    {
      "cell_type": "markdown",
      "metadata": {
        "id": "LD9RQUIWjfwS"
      },
      "source": [
        "### Discussion on optimum number of clusters"
      ]
    },
    {
      "cell_type": "code",
      "metadata": {
        "id": "-df7QnPlhuIN",
        "colab": {
          "base_uri": "https://localhost:8080/",
          "height": 941
        },
        "outputId": "67794b85-ba42-4a2a-d132-91323096883b"
      },
      "source": [
        "# Plot loss vs number of clusters\n",
        "def lossVsClusters(kmin, kmax, kstep, choc_data):\n",
        "  kmax += 1  # include kmax-th cluster in range\n",
        "  kRange = range(kmin, kmax, kstep)\n",
        "  loss = np.zeros(len(kRange))\n",
        "  lossCtr = 0\n",
        "  for kk in kRange:\n",
        "    [choc_data, centroids] = kmeans(choc_data, kk, feature_cols, 0)\n",
        "    loss[lossCtr] = np.sum(choc_data['pt2centroid'])\n",
        "    lossCtr += 1\n",
        "  plt.scatter(kRange, loss)\n",
        "  plt.title('Loss vs Clusters Used')\n",
        "  plt.xlabel('Number of clusters')\n",
        "  plt.ylabel('Total Point-to-Centroid Distance')\n",
        "\n",
        "\n",
        "kmin = 5  # @param\n",
        "kmax = 80  # @param\n",
        "kstep = 2  # @param\n",
        "lossVsClusters(kmin, kmax, kstep, choc_data)"
      ],
      "execution_count": 38,
      "outputs": [
        {
          "output_type": "stream",
          "text": [
            "k-means converged for 5 clusters after 22 iterations!\n",
            "k-means converged for 7 clusters after 19 iterations!\n",
            "k-means converged for 9 clusters after 14 iterations!\n",
            "k-means converged for 11 clusters after 12 iterations!\n",
            "k-means converged for 13 clusters after 13 iterations!\n",
            "k-means converged for 15 clusters after 18 iterations!\n",
            "k-means converged for 17 clusters after 13 iterations!\n",
            "k-means converged for 19 clusters after 17 iterations!\n",
            "k-means converged for 21 clusters after 14 iterations!\n",
            "k-means converged for 23 clusters after 28 iterations!\n",
            "k-means converged for 25 clusters after 12 iterations!\n",
            "k-means converged for 27 clusters after 9 iterations!\n",
            "k-means converged for 29 clusters after 10 iterations!\n",
            "k-means converged for 31 clusters after 9 iterations!\n",
            "k-means converged for 33 clusters after 19 iterations!\n",
            "k-means converged for 35 clusters after 13 iterations!\n",
            "k-means converged for 37 clusters after 14 iterations!\n",
            "k-means converged for 39 clusters after 15 iterations!\n",
            "k-means converged for 41 clusters after 11 iterations!\n",
            "k-means converged for 43 clusters after 8 iterations!\n",
            "k-means converged for 45 clusters after 12 iterations!\n",
            "k-means converged for 47 clusters after 19 iterations!\n",
            "k-means converged for 49 clusters after 8 iterations!\n",
            "k-means converged for 51 clusters after 11 iterations!\n",
            "k-means converged for 53 clusters after 9 iterations!\n",
            "k-means converged for 55 clusters after 11 iterations!\n",
            "k-means converged for 57 clusters after 11 iterations!\n",
            "k-means converged for 59 clusters after 7 iterations!\n",
            "k-means converged for 61 clusters after 7 iterations!\n",
            "k-means converged for 63 clusters after 15 iterations!\n",
            "k-means converged for 65 clusters after 12 iterations!\n",
            "k-means converged for 67 clusters after 10 iterations!\n",
            "k-means converged for 69 clusters after 9 iterations!\n",
            "k-means converged for 71 clusters after 8 iterations!\n",
            "k-means converged for 73 clusters after 11 iterations!\n",
            "k-means converged for 75 clusters after 11 iterations!\n",
            "k-means converged for 77 clusters after 11 iterations!\n",
            "k-means converged for 79 clusters after 8 iterations!\n"
          ],
          "name": "stdout"
        },
        {
          "output_type": "display_data",
          "data": {
            "image/png": "[encoded data removed]",
            "text/plain": [
              "<Figure size 432x288 with 1 Axes>"
            ]
          },
          "metadata": {
            "tags": [],
            "needs_background": "light"
          }
        }
      ]
    },
    {
      "cell_type": "markdown",
      "metadata": {
        "id": "0wYfwKGcVT-R"
      },
      "source": [
        "**Discussion**: The ideal plot of loss vs clusters has a clear inflection point beyond which the decrease in loss flattens out. Here, the plot lacks an obvious inflection point. However, the decrease in loss evens out twice, at approximately `k = 15`\n",
        "and `k = 35`, suggesting that `k` has optimum values close to 15 and 35. Note that your plot can differ due to the inherent randomness in the k-means algorithm.\n",
        "\n",
        "You\n",
        "typically see a plot with a clear inflection point plot when the data has naturally clumped\n",
        "examples. When data doesn't have natural clumps, this plot only hints\n",
        "as to the optimum value for `k`."
      ]
    },
    {
      "cell_type": "markdown",
      "metadata": {
        "id": "tj67XUzmjuNK"
      },
      "source": [
        "## Discussion\n",
        "\n",
        "On the page\n",
        "[Supervised Similarity Measure](https://developers.google.com/machine-learning/clustering/similarity/supervised-similarity),\n",
        "read the \"*Comparison of Manual and Supervised Measures*\". Try to connect the description of a manual similarity measure to what your learned from this codelab. Then click below to view the discussion. Lastly, **keep this Colab open** to compare the results with the next Colab that uses a supervised similarity measure."
      ]
    },
    {
      "cell_type": "markdown",
      "metadata": {
        "id": "pVEAjXut0uw7"
      },
      "source": [
        "The Colab demonstrates the following characteristics of a manual similarity metric:\n",
        "\n",
        "*   **Does not eliminate redundant information in correlated features**. As\n",
        "    discussed in this [section](#scrollTo=MJtuP9w5jJHq), our manual similarity\n",
        "    measure did not eliminate redundant information between features.\n",
        "*   **Provides insight into calculated similarities**. Looking at the clustering\n",
        "    results, you could see how the maker location and bean origin had a greater\n",
        "    influence on the clustering result. You saw how the one-hot encoding\n",
        "    resulted in weighting maker and bean type twice as much as other features.\n",
        "*   **Suitable for small datasets with few features**. Yes, you could easily\n",
        "    construct a manual similarity measure for the chocolate dataset since it has\n",
        "    less than two thousand examples and only nine features.\n",
        "*   **Not suitable for large datasets with many features**. If the chocolate dataset\n",
        "    had dozens of features and many thousands of examples, it would be difficult\n",
        "    to construct a correct similarity measure and then verify the similarity\n",
        "    measure across the dataset."
      ]
    },
    {
      "cell_type": "markdown",
      "metadata": {
        "id": "aZ12kbwD4Qtu"
      },
      "source": [
        "# Appendix: Calculating Point to Centroid Distance for Large Datasets\n",
        "\n",
        "On every iteration of k-means, your code calculates the distance between every\n",
        "point and every centroid. When you cluster large numbers of points using many centroids, you must implement\n",
        "this operation efficiently. Let's see how.\n",
        "\n",
        "Assume you have a vector \"P\" for a point, and another vector \"C\" for a centroid.\n",
        "You need to calculate $||P-C||^2$. Mathematically:\n",
        "\n",
        "$$||P-C||^2 = |P|^2 + |C|^2 - 2 \\cdot P \\cdot C$$\n",
        "\n",
        "The code below generalizes this operation to matrices that represent arbitrary\n",
        "numbers of points and centroids. Using the code, you can calculate the\n",
        "point-centroid distances for all combinations of your points and centroids."
      ]
    },
    {
      "cell_type": "code",
      "metadata": {
        "id": "T6hHN2bCKi7k",
        "colab": {
          "base_uri": "https://localhost:8080/"
        },
        "outputId": "d13786cc-342d-46b2-d86a-f51dc43cbb1f"
      },
      "source": [
        "# Calculate distances between \"A\" point and \"B\" centroids to return\n",
        "# axb array where a_i,b_j distance is at (i,j) position\n",
        "A = np.array([[1, 2, 3],\\\n",
        "              [3, 1, 2],\\\n",
        "              [0, 0, 0]])\n",
        "A = A / np.max(A)\n",
        "B = np.array([[4, 5, 6],\\\n",
        "              [6, 6, 6]])\n",
        "B = B / np.max(B)\n",
        "numPoints = A.shape[0]\n",
        "numCentroids = B.shape[0]\n",
        "pointNorms = np.reshape(nla.norm(A, axis=1)**2.0, [numPoints, 1])\n",
        "centroidNorms = np.reshape(nla.norm(B, axis=1)**2.0, (1, numCentroids))\n",
        "print(\"\"\"Distance matrix of size 'p' by 'c' where Distance between point 'p' and centroid 'c' is at (p,c).\"\"\")\n",
        "print(pointNorms + centroidNorms - 2.0 * np.dot(A, np.transpose(B)))"
      ],
      "execution_count": 39,
      "outputs": [
        {
          "output_type": "stream",
          "text": [
            "Distance matrix of size 'p' by 'c' where Distance between point 'p' and centroid 'c' is at (p,c).\n",
            "[[0.14 0.56]\n",
            " [0.47 0.56]\n",
            " [2.14 3.  ]]\n"
          ],
          "name": "stdout"
        }
      ]
    }
  ]
}
